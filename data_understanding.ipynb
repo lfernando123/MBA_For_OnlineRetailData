{
 "cells": [
  {
   "cell_type": "code",
   "execution_count": 78,
   "id": "506f33b5",
   "metadata": {
    "vscode": {
     "languageId": "r"
    }
   },
   "outputs": [],
   "source": [
    "# Load necessary libraries\n",
    "library(readxl)\n",
    "library(dplyr)\n",
    "library(ggplot2)\n",
    "library(tidyr)\n",
    "library(summarytools)\n",
    "library(corrplot)\n",
    "library(DataExplorer)\n",
    "library(psych)\n",
    "library(caret)"
   ]
  },
  {
   "cell_type": "code",
   "execution_count": 79,
   "id": "93bb6665",
   "metadata": {
    "vscode": {
     "languageId": "r"
    }
   },
   "outputs": [
    {
     "name": "stdout",
     "output_type": "stream",
     "text": [
      "\u001b[90m# A tibble: 541,909 × 8\u001b[39m\n",
      "   InvoiceNo StockCode Description        Quantity InvoiceDate         UnitPrice\n",
      "   \u001b[3m\u001b[90m<chr>\u001b[39m\u001b[23m     \u001b[3m\u001b[90m<chr>\u001b[39m\u001b[23m     \u001b[3m\u001b[90m<chr>\u001b[39m\u001b[23m                 \u001b[3m\u001b[90m<dbl>\u001b[39m\u001b[23m \u001b[3m\u001b[90m<dttm>\u001b[39m\u001b[23m                  \u001b[3m\u001b[90m<dbl>\u001b[39m\u001b[23m\n",
      "\u001b[90m 1\u001b[39m 536365    85123A    WHITE HANGING HEA…        6 2010-12-01 \u001b[90m08:26:00\u001b[39m      2.55\n",
      "\u001b[90m 2\u001b[39m 536365    71053     WHITE METAL LANTE…        6 2010-12-01 \u001b[90m08:26:00\u001b[39m      3.39\n",
      "\u001b[90m 3\u001b[39m 536365    84406B    CREAM CUPID HEART…        8 2010-12-01 \u001b[90m08:26:00\u001b[39m      2.75\n",
      "\u001b[90m 4\u001b[39m 536365    84029G    KNITTED UNION FLA…        6 2010-12-01 \u001b[90m08:26:00\u001b[39m      3.39\n",
      "\u001b[90m 5\u001b[39m 536365    84029E    RED WOOLLY HOTTIE…        6 2010-12-01 \u001b[90m08:26:00\u001b[39m      3.39\n",
      "\u001b[90m 6\u001b[39m 536365    22752     SET 7 BABUSHKA NE…        2 2010-12-01 \u001b[90m08:26:00\u001b[39m      7.65\n",
      "\u001b[90m 7\u001b[39m 536365    21730     GLASS STAR FROSTE…        6 2010-12-01 \u001b[90m08:26:00\u001b[39m      4.25\n",
      "\u001b[90m 8\u001b[39m 536366    22633     HAND WARMER UNION…        6 2010-12-01 \u001b[90m08:28:00\u001b[39m      1.85\n",
      "\u001b[90m 9\u001b[39m 536366    22632     HAND WARMER RED P…        6 2010-12-01 \u001b[90m08:28:00\u001b[39m      1.85\n",
      "\u001b[90m10\u001b[39m 536367    84879     ASSORTED COLOUR B…       32 2010-12-01 \u001b[90m08:34:00\u001b[39m      1.69\n",
      "\u001b[90m# ℹ 541,899 more rows\u001b[39m\n",
      "\u001b[90m# ℹ 2 more variables: CustomerID <dbl>, Country <chr>\u001b[39m\n"
     ]
    }
   ],
   "source": [
    "# Load the Excel file\n",
    "data <- read_excel(\"online_retail.xlsx\")\n",
    "print(data)"
   ]
  },
  {
   "cell_type": "code",
   "execution_count": 80,
   "id": "ba30e053",
   "metadata": {
    "vscode": {
     "languageId": "r"
    }
   },
   "outputs": [
    {
     "name": "stdout",
     "output_type": "stream",
     "text": [
      "tibble [541,909 × 8] (S3: tbl_df/tbl/data.frame)\n",
      " $ InvoiceNo  : chr [1:541909] \"536365\" \"536365\" \"536365\" \"536365\" ...\n",
      " $ StockCode  : chr [1:541909] \"85123A\" \"71053\" \"84406B\" \"84029G\" ...\n",
      " $ Description: chr [1:541909] \"WHITE HANGING HEART T-LIGHT HOLDER\" \"WHITE METAL LANTERN\" \"CREAM CUPID HEARTS COAT HANGER\" \"KNITTED UNION FLAG HOT WATER BOTTLE\" ...\n",
      " $ Quantity   : num [1:541909] 6 6 8 6 6 2 6 6 6 32 ...\n",
      " $ InvoiceDate: POSIXct[1:541909], format: \"2010-12-01 08:26:00\" \"2010-12-01 08:26:00\" ...\n",
      " $ UnitPrice  : num [1:541909] 2.55 3.39 2.75 3.39 3.39 7.65 4.25 1.85 1.85 1.69 ...\n",
      " $ CustomerID : num [1:541909] 17850 17850 17850 17850 17850 ...\n",
      " $ Country    : chr [1:541909] \"United Kingdom\" \"United Kingdom\" \"United Kingdom\" \"United Kingdom\" ...\n"
     ]
    },
    {
     "data": {
      "text/plain": [
       "  InvoiceNo          StockCode         Description           Quantity        \n",
       " Length:541909      Length:541909      Length:541909      Min.   :-80995.00  \n",
       " Class :character   Class :character   Class :character   1st Qu.:     1.00  \n",
       " Mode  :character   Mode  :character   Mode  :character   Median :     3.00  \n",
       "                                                          Mean   :     9.55  \n",
       "                                                          3rd Qu.:    10.00  \n",
       "                                                          Max.   : 80995.00  \n",
       "                                                                             \n",
       "  InvoiceDate                       UnitPrice           CustomerID    \n",
       " Min.   :2010-12-01 08:26:00.00   Min.   :-11062.06   Min.   :12346   \n",
       " 1st Qu.:2011-03-28 11:34:00.00   1st Qu.:     1.25   1st Qu.:13953   \n",
       " Median :2011-07-19 17:17:00.00   Median :     2.08   Median :15152   \n",
       " Mean   :2011-07-04 13:34:57.16   Mean   :     4.61   Mean   :15288   \n",
       " 3rd Qu.:2011-10-19 11:27:00.00   3rd Qu.:     4.13   3rd Qu.:16791   \n",
       " Max.   :2011-12-09 12:50:00.00   Max.   : 38970.00   Max.   :18287   \n",
       "                                                      NA's   :135080  \n",
       "   Country         \n",
       " Length:541909     \n",
       " Class :character  \n",
       " Mode  :character  \n",
       "                   \n",
       "                   \n",
       "                   \n",
       "                   "
      ]
     },
     "metadata": {},
     "output_type": "display_data"
    }
   ],
   "source": [
    "# View basic structure and summary\n",
    "str(data)\n",
    "summary(data)\n",
    "# dfSummary(data)"
   ]
  },
  {
   "cell_type": "code",
   "execution_count": 81,
   "id": "90cc5553",
   "metadata": {
    "vscode": {
     "languageId": "r"
    }
   },
   "outputs": [
    {
     "name": "stdout",
     "output_type": "stream",
     "text": [
      "\u001b[90m# A tibble: 541,909 × 5\u001b[39m\n",
      "   InvoiceNo Description                         Quantity UnitPrice Country     \n",
      "   \u001b[3m\u001b[90m<chr>\u001b[39m\u001b[23m     \u001b[3m\u001b[90m<chr>\u001b[39m\u001b[23m                                  \u001b[3m\u001b[90m<dbl>\u001b[39m\u001b[23m     \u001b[3m\u001b[90m<dbl>\u001b[39m\u001b[23m \u001b[3m\u001b[90m<chr>\u001b[39m\u001b[23m       \n",
      "\u001b[90m 1\u001b[39m 536365    WHITE HANGING HEART T-LIGHT HOLDER         6      2.55 United King…\n",
      "\u001b[90m 2\u001b[39m 536365    WHITE METAL LANTERN                        6      3.39 United King…\n",
      "\u001b[90m 3\u001b[39m 536365    CREAM CUPID HEARTS COAT HANGER             8      2.75 United King…\n",
      "\u001b[90m 4\u001b[39m 536365    KNITTED UNION FLAG HOT WATER BOTTLE        6      3.39 United King…\n",
      "\u001b[90m 5\u001b[39m 536365    RED WOOLLY HOTTIE WHITE HEART.             6      3.39 United King…\n",
      "\u001b[90m 6\u001b[39m 536365    SET 7 BABUSHKA NESTING BOXES               2      7.65 United King…\n",
      "\u001b[90m 7\u001b[39m 536365    GLASS STAR FROSTED T-LIGHT HOLDER          6      4.25 United King…\n",
      "\u001b[90m 8\u001b[39m 536366    HAND WARMER UNION JACK                     6      1.85 United King…\n",
      "\u001b[90m 9\u001b[39m 536366    HAND WARMER RED POLKA DOT                  6      1.85 United King…\n",
      "\u001b[90m10\u001b[39m 536367    ASSORTED COLOUR BIRD ORNAMENT             32      1.69 United King…\n",
      "\u001b[90m# ℹ 541,899 more rows\u001b[39m\n"
     ]
    }
   ],
   "source": [
    "# Drop unnecessary columns\n",
    "df <- data[, !(names(data) %in% c(\"StockCode\", \"InvoiceDate\", \"CustomerID\"))]\n",
    "print(df)"
   ]
  },
  {
   "cell_type": "code",
   "execution_count": 82,
   "id": "2ec0dc80",
   "metadata": {
    "vscode": {
     "languageId": "r"
    }
   },
   "outputs": [
    {
     "name": "stdout",
     "output_type": "stream",
     "text": [
      "  InvoiceNo Description    Quantity   UnitPrice     Country \n",
      "          0        1454           0           0           0 \n"
     ]
    }
   ],
   "source": [
    "# Check for missing values\n",
    "missing_data <- sapply(df, function(x) sum(is.na(x)))\n",
    "print(missing_data)"
   ]
  },
  {
   "cell_type": "code",
   "execution_count": 83,
   "id": "26d76e41",
   "metadata": {
    "vscode": {
     "languageId": "r"
    }
   },
   "outputs": [
    {
     "name": "stdout",
     "output_type": "stream",
     "text": [
      "tibble [541,909 × 5] (S3: tbl_df/tbl/data.frame)\n",
      " $ InvoiceNo  : chr [1:541909] \"536365\" \"536365\" \"536365\" \"536365\" ...\n",
      " $ Description: chr [1:541909] \"WHITE HANGING HEART T-LIGHT HOLDER\" \"WHITE METAL LANTERN\" \"CREAM CUPID HEARTS COAT HANGER\" \"KNITTED UNION FLAG HOT WATER BOTTLE\" ...\n",
      " $ Quantity   : num [1:541909] 6 6 8 6 6 2 6 6 6 32 ...\n",
      " $ UnitPrice  : num [1:541909] 2.55 3.39 2.75 3.39 3.39 7.65 4.25 1.85 1.85 1.69 ...\n",
      " $ Country    : chr [1:541909] \"United Kingdom\" \"United Kingdom\" \"United Kingdom\" \"United Kingdom\" ...\n"
     ]
    },
    {
     "data": {
      "text/plain": [
       "  InvoiceNo         Description           Quantity           UnitPrice        \n",
       " Length:541909      Length:541909      Min.   :-80995.00   Min.   :-11062.06  \n",
       " Class :character   Class :character   1st Qu.:     1.00   1st Qu.:     1.25  \n",
       " Mode  :character   Mode  :character   Median :     3.00   Median :     2.08  \n",
       "                                       Mean   :     9.55   Mean   :     4.61  \n",
       "                                       3rd Qu.:    10.00   3rd Qu.:     4.13  \n",
       "                                       Max.   : 80995.00   Max.   : 38970.00  \n",
       "   Country         \n",
       " Length:541909     \n",
       " Class :character  \n",
       " Mode  :character  \n",
       "                   \n",
       "                   \n",
       "                   "
      ]
     },
     "metadata": {},
     "output_type": "display_data"
    }
   ],
   "source": [
    "# View basic structure and summary\n",
    "str(df)\n",
    "summary(df)"
   ]
  },
  {
   "cell_type": "code",
   "execution_count": 84,
   "id": "877ccbbd",
   "metadata": {
    "vscode": {
     "languageId": "r"
    }
   },
   "outputs": [
    {
     "name": "stdout",
     "output_type": "stream",
     "text": [
      "tibble [419,211 × 5] (S3: tbl_df/tbl/data.frame)\n",
      " $ InvoiceNo  : chr [1:419211] \"536365\" \"536365\" \"536365\" \"536365\" ...\n",
      " $ Description: chr [1:419211] \"WHITE HANGING HEART T-LIGHT HOLDER\" \"WHITE METAL LANTERN\" \"CREAM CUPID HEARTS COAT HANGER\" \"KNITTED UNION FLAG HOT WATER BOTTLE\" ...\n",
      " $ Quantity   : num [1:419211] 6 6 8 6 6 2 6 6 6 32 ...\n",
      " $ UnitPrice  : num [1:419211] 2.55 3.39 2.75 3.39 3.39 7.65 4.25 1.85 1.85 1.69 ...\n",
      " $ Country    : chr [1:419211] \"United Kingdom\" \"United Kingdom\" \"United Kingdom\" \"United Kingdom\" ...\n"
     ]
    }
   ],
   "source": [
    "data_clean <- df %>%\n",
    "  filter(Quantity >= 1, UnitPrice >= 1)\n",
    "\n",
    "str(data_clean)"
   ]
  },
  {
   "cell_type": "code",
   "execution_count": 85,
   "id": "daa8e09e",
   "metadata": {
    "vscode": {
     "languageId": "r"
    }
   },
   "outputs": [
    {
     "name": "stdout",
     "output_type": "stream",
     "text": [
      "tibble [417,382 × 5] (S3: tbl_df/tbl/data.frame)\n",
      " $ InvoiceNo  : chr [1:417382] \"536365\" \"536365\" \"536365\" \"536365\" ...\n",
      " $ Description: chr [1:417382] \"WHITE HANGING HEART T-LIGHT HOLDER\" \"WHITE METAL LANTERN\" \"CREAM CUPID HEARTS COAT HANGER\" \"KNITTED UNION FLAG HOT WATER BOTTLE\" ...\n",
      " $ Quantity   : num [1:417382] 6 6 8 6 6 2 6 6 6 32 ...\n",
      " $ UnitPrice  : num [1:417382] 2.55 3.39 2.75 3.39 3.39 7.65 4.25 1.85 1.85 1.69 ...\n",
      " $ Country    : chr [1:417382] \"United Kingdom\" \"United Kingdom\" \"United Kingdom\" \"United Kingdom\" ...\n"
     ]
    }
   ],
   "source": [
    "data_clean <- data_clean[data_clean$Description != \"DOTCOM POSTAGE\", ]\n",
    "data_clean <- data_clean[data_clean$Description != \"POSTAGE\", ]\n",
    "str(data_clean)"
   ]
  },
  {
   "cell_type": "code",
   "execution_count": 86,
   "id": "24bfaed8",
   "metadata": {
    "vscode": {
     "languageId": "r"
    }
   },
   "outputs": [
    {
     "data": {
      "image/png": "[encoded data removed]",
      "text/plain": [
       "plot without title"
      ]
     },
     "metadata": {
      "image/png": {
       "height": 420,
       "width": 420
      }
     },
     "output_type": "display_data"
    }
   ],
   "source": [
    "# Visualize missing data\n",
    "plot_missing(data_clean)"
   ]
  },
  {
   "cell_type": "code",
   "execution_count": 87,
   "id": "9d6d275e",
   "metadata": {
    "vscode": {
     "languageId": "r"
    }
   },
   "outputs": [
    {
     "data": {
      "image/png": "[encoded data removed]",
      "text/plain": [
       "Plot with title \"\""
      ]
     },
     "metadata": {
      "image/png": {
       "height": 420,
       "width": 420
      }
     },
     "output_type": "display_data"
    }
   ],
   "source": [
    "# Correlation analysis\n",
    "numeric_data <- data_clean %>% select(where(is.numeric)) %>% na.omit()\n",
    "cor_matrix <- cor(numeric_data)\n",
    "corrplot(cor_matrix, method = \"color\", tl.cex = 0.8)"
   ]
  },
  {
   "cell_type": "code",
   "execution_count": 88,
   "id": "4efcbffd",
   "metadata": {
    "vscode": {
     "languageId": "r"
    }
   },
   "outputs": [
    {
     "data": {
      "text/html": [
       "<table class=\"dataframe\">\n",
       "<caption>A tibble: 1 × 9</caption>\n",
       "<thead>\n",
       "\t<tr><th scope=col>rows</th><th scope=col>columns</th><th scope=col>discrete_columns</th><th scope=col>continuous_columns</th><th scope=col>all_missing_columns</th><th scope=col>total_missing_values</th><th scope=col>complete_rows</th><th scope=col>total_observations</th><th scope=col>memory_usage</th></tr>\n",
       "\t<tr><th scope=col>&lt;int&gt;</th><th scope=col>&lt;int&gt;</th><th scope=col>&lt;int&gt;</th><th scope=col>&lt;int&gt;</th><th scope=col>&lt;int&gt;</th><th scope=col>&lt;int&gt;</th><th scope=col>&lt;int&gt;</th><th scope=col>&lt;int&gt;</th><th scope=col>&lt;dbl&gt;</th></tr>\n",
       "</thead>\n",
       "<tbody>\n",
       "\t<tr><td>417382</td><td>5</td><td>3</td><td>2</td><td>0</td><td>0</td><td>417382</td><td>2086910</td><td>18092336</td></tr>\n",
       "</tbody>\n",
       "</table>\n"
      ],
      "text/latex": [
       "A tibble: 1 × 9\n",
       "\\begin{tabular}{lllllllll}\n",
       " rows & columns & discrete\\_columns & continuous\\_columns & all\\_missing\\_columns & total\\_missing\\_values & complete\\_rows & total\\_observations & memory\\_usage\\\\\n",
       " <int> & <int> & <int> & <int> & <int> & <int> & <int> & <int> & <dbl>\\\\\n",
       "\\hline\n",
       "\t 417382 & 5 & 3 & 2 & 0 & 0 & 417382 & 2086910 & 18092336\\\\\n",
       "\\end{tabular}\n"
      ],
      "text/markdown": [
       "\n",
       "A tibble: 1 × 9\n",
       "\n",
       "| rows &lt;int&gt; | columns &lt;int&gt; | discrete_columns &lt;int&gt; | continuous_columns &lt;int&gt; | all_missing_columns &lt;int&gt; | total_missing_values &lt;int&gt; | complete_rows &lt;int&gt; | total_observations &lt;int&gt; | memory_usage &lt;dbl&gt; |\n",
       "|---|---|---|---|---|---|---|---|---|\n",
       "| 417382 | 5 | 3 | 2 | 0 | 0 | 417382 | 2086910 | 18092336 |\n",
       "\n"
      ],
      "text/plain": [
       "  rows   columns discrete_columns continuous_columns all_missing_columns\n",
       "1 417382 5       3                2                  0                  \n",
       "  total_missing_values complete_rows total_observations memory_usage\n",
       "1 0                    417382        2086910            18092336    "
      ]
     },
     "metadata": {},
     "output_type": "display_data"
    }
   ],
   "source": [
    "# Quick overview\n",
    "introduce(data_clean)"
   ]
  },
  {
   "cell_type": "code",
   "execution_count": 89,
   "id": "e5a585a1",
   "metadata": {
    "vscode": {
     "languageId": "r"
    }
   },
   "outputs": [],
   "source": [
    "write.csv(data_clean, \"data_final.csv\", row.names = FALSE)"
   ]
  },
  {
   "cell_type": "code",
   "execution_count": 90,
   "id": "fbf12478",
   "metadata": {
    "vscode": {
     "languageId": "r"
    }
   },
   "outputs": [],
   "source": [
    "country_count <- data_clean %>%\n",
    "  group_by(Country) %>%\n",
    "  summarise(Transactions = n()) %>%\n",
    "  arrange(desc(Transactions))"
   ]
  },
  {
   "cell_type": "code",
   "execution_count": 91,
   "id": "5bc34ec1",
   "metadata": {
    "vscode": {
     "languageId": "r"
    }
   },
   "outputs": [
    {
     "data": {
      "image/png": "[encoded data removed]",
      "text/plain": [
       "plot without title"
      ]
     },
     "metadata": {
      "image/png": {
       "height": 420,
       "width": 420
      }
     },
     "output_type": "display_data"
    }
   ],
   "source": [
    "top3 <- head(country_count, 3)\n",
    "\n",
    "ggplot(top3, aes(x = reorder(Country, -Transactions), y = Transactions)) +\n",
    "  geom_bar(stat = \"identity\", fill = \"#4a2924\") +\n",
    "  labs(title = \"Top 3 Countries by Transactions\",\n",
    "       x = \"Country\",\n",
    "       y = \"Number of Transactions\") +\n",
    "  theme_minimal()"
   ]
  },
  {
   "cell_type": "code",
   "execution_count": 104,
   "id": "1c8495e7",
   "metadata": {
    "vscode": {
     "languageId": "r"
    }
   },
   "outputs": [],
   "source": [
    "uk_data <- data_clean %>%\n",
    "  filter(Country == \"United Kingdom\") %>%\n",
    "  select(-Country, -Quantity, -UnitPrice)\n",
    "\n",
    "ger_data <- data_clean %>%\n",
    "  filter(Country == \"Germany\") %>%\n",
    "  select(-Country, -Quantity, -UnitPrice)\n",
    "\n",
    "fra_data <- data_clean %>%\n",
    "  filter(Country == \"France\") %>%\n",
    "  select(-Country, -Quantity, -UnitPrice)\n"
   ]
  },
  {
   "cell_type": "code",
   "execution_count": 93,
   "id": "db2bd8e3",
   "metadata": {
    "vscode": {
     "languageId": "r"
    }
   },
   "outputs": [
    {
     "name": "stdout",
     "output_type": "stream",
     "text": [
      "\u001b[90m# A tibble: 383,741 × 2\u001b[39m\n",
      "   InvoiceNo Description                        \n",
      "   \u001b[3m\u001b[90m<chr>\u001b[39m\u001b[23m     \u001b[3m\u001b[90m<chr>\u001b[39m\u001b[23m                              \n",
      "\u001b[90m 1\u001b[39m 536365    WHITE HANGING HEART T-LIGHT HOLDER \n",
      "\u001b[90m 2\u001b[39m 536365    WHITE METAL LANTERN                \n",
      "\u001b[90m 3\u001b[39m 536365    CREAM CUPID HEARTS COAT HANGER     \n",
      "\u001b[90m 4\u001b[39m 536365    KNITTED UNION FLAG HOT WATER BOTTLE\n",
      "\u001b[90m 5\u001b[39m 536365    RED WOOLLY HOTTIE WHITE HEART.     \n",
      "\u001b[90m 6\u001b[39m 536365    SET 7 BABUSHKA NESTING BOXES       \n",
      "\u001b[90m 7\u001b[39m 536365    GLASS STAR FROSTED T-LIGHT HOLDER  \n",
      "\u001b[90m 8\u001b[39m 536366    HAND WARMER UNION JACK             \n",
      "\u001b[90m 9\u001b[39m 536366    HAND WARMER RED POLKA DOT          \n",
      "\u001b[90m10\u001b[39m 536367    ASSORTED COLOUR BIRD ORNAMENT      \n",
      "\u001b[90m# ℹ 383,731 more rows\u001b[39m\n"
     ]
    }
   ],
   "source": [
    "print(uk_data)"
   ]
  },
  {
   "cell_type": "code",
   "execution_count": 94,
   "id": "3d4087cc",
   "metadata": {
    "vscode": {
     "languageId": "r"
    }
   },
   "outputs": [
    {
     "name": "stdout",
     "output_type": "stream",
     "text": [
      "\u001b[90m# A tibble: 6,549 × 2\u001b[39m\n",
      "   InvoiceNo Description                        \n",
      "   \u001b[3m\u001b[90m<chr>\u001b[39m\u001b[23m     \u001b[3m\u001b[90m<chr>\u001b[39m\u001b[23m                              \n",
      "\u001b[90m 1\u001b[39m 536527    SET OF 6 T-LIGHTS SANTA            \n",
      "\u001b[90m 2\u001b[39m 536527    ROTATING SILVER ANGELS T-LIGHT HLDR\n",
      "\u001b[90m 3\u001b[39m 536527    5 HOOK HANGER MAGIC TOADSTOOL      \n",
      "\u001b[90m 4\u001b[39m 536527    3 HOOK HANGER MAGIC GARDEN         \n",
      "\u001b[90m 5\u001b[39m 536527    5 HOOK HANGER RED MAGIC TOADSTOOL  \n",
      "\u001b[90m 6\u001b[39m 536527    JUMBO BAG WOODLAND ANIMALS         \n",
      "\u001b[90m 7\u001b[39m 536527    JUMBO BAG OWLS                     \n",
      "\u001b[90m 8\u001b[39m 536527    HOT WATER BOTTLE BABUSHKA          \n",
      "\u001b[90m 9\u001b[39m 536527    HOMEMADE JAM SCENTED CANDLES       \n",
      "\u001b[90m10\u001b[39m 536527    CHILDREN'S CIRCUS PARADE MUG       \n",
      "\u001b[90m# ℹ 6,539 more rows\u001b[39m\n"
     ]
    }
   ],
   "source": [
    "print(ger_data)"
   ]
  },
  {
   "cell_type": "code",
   "execution_count": 95,
   "id": "acb20b05",
   "metadata": {
    "vscode": {
     "languageId": "r"
    }
   },
   "outputs": [
    {
     "name": "stdout",
     "output_type": "stream",
     "text": [
      "\u001b[90m# A tibble: 6,082 × 2\u001b[39m\n",
      "   InvoiceNo Description                       \n",
      "   \u001b[3m\u001b[90m<chr>\u001b[39m\u001b[23m     \u001b[3m\u001b[90m<chr>\u001b[39m\u001b[23m                             \n",
      "\u001b[90m 1\u001b[39m 536370    ALARM CLOCK BAKELIKE PINK         \n",
      "\u001b[90m 2\u001b[39m 536370    ALARM CLOCK BAKELIKE RED          \n",
      "\u001b[90m 3\u001b[39m 536370    ALARM CLOCK BAKELIKE GREEN        \n",
      "\u001b[90m 4\u001b[39m 536370    VINTAGE HEADS AND TAILS CARD GAME \n",
      "\u001b[90m 5\u001b[39m 536370    SET/2 RED RETROSPOT TEA TOWELS    \n",
      "\u001b[90m 6\u001b[39m 536370    ROUND SNACK BOXES SET OF4 WOODLAND\n",
      "\u001b[90m 7\u001b[39m 536370    SPACEBOY LUNCH BOX                \n",
      "\u001b[90m 8\u001b[39m 536370    LUNCH BOX I LOVE LONDON           \n",
      "\u001b[90m 9\u001b[39m 536370    CIRCUS PARADE LUNCH BOX           \n",
      "\u001b[90m10\u001b[39m 536370    RED TOADSTOOL LED NIGHT LIGHT     \n",
      "\u001b[90m# ℹ 6,072 more rows\u001b[39m\n"
     ]
    }
   ],
   "source": [
    "print(fra_data)"
   ]
  },
  {
   "cell_type": "code",
   "execution_count": 96,
   "id": "57a444db",
   "metadata": {
    "vscode": {
     "languageId": "r"
    }
   },
   "outputs": [],
   "source": [
    "library(arules)\n",
    "library(arulesViz)"
   ]
  },
  {
   "cell_type": "code",
   "execution_count": 97,
   "id": "ce557f21",
   "metadata": {
    "vscode": {
     "languageId": "r"
    }
   },
   "outputs": [
    {
     "name": "stderr",
     "output_type": "stream",
     "text": [
      "Warning message in asMethod(object):\n",
      "\"removing duplicated items in transactions\"\n"
     ]
    }
   ],
   "source": [
    "# Convert InvoiceNo to character (required by arules)\n",
    "uk_data$InvoiceNo <- as.character(uk_data$InvoiceNo)\n",
    "\n",
    "# Convert to transactions using split\n",
    "transactions_list <- split(uk_data$Description, uk_data$InvoiceNo)\n",
    "\n",
    "# Convert to \"transactions\" object\n",
    "trans <- as(transactions_list, \"transactions\")"
   ]
  },
  {
   "cell_type": "code",
   "execution_count": 98,
   "id": "5bcca4ea",
   "metadata": {
    "vscode": {
     "languageId": "r"
    }
   },
   "outputs": [
    {
     "name": "stdout",
     "output_type": "stream",
     "text": [
      "Apriori\n",
      "\n",
      "Parameter specification:\n",
      " confidence minval smax arem  aval originalSupport maxtime support minlen\n",
      "        0.7    0.1    1 none FALSE            TRUE       5   0.005      1\n",
      " maxlen target  ext\n",
      "      3  rules TRUE\n",
      "\n",
      "Algorithmic control:\n",
      " filter tree heap memopt load sort verbose\n",
      "    0.1 TRUE TRUE  FALSE TRUE    2    TRUE\n",
      "\n",
      "Absolute minimum support count: 87 \n",
      "\n",
      "set item appearances ...[0 item(s)] done [0.00s].\n",
      "set transactions ...[3606 item(s), 17591 transaction(s)] done [0.08s].\n",
      "sorting and recoding items ... [1172 item(s)] done [0.01s].\n",
      "creating transaction tree ... done [0.00s].\n",
      "checking subsets of size 1 2 3"
     ]
    },
    {
     "name": "stderr",
     "output_type": "stream",
     "text": [
      "Warning message in apriori(trans, parameter = list(supp = 0.005, conf = 0.7, maxlen = 3)):\n",
      "\"Mining stopped (maxlen reached). Only patterns up to a length of 3 returned!\"\n"
     ]
    },
    {
     "name": "stdout",
     "output_type": "stream",
     "text": [
      " done [0.05s].\n",
      "writing ... [2834 rule(s)] done [0.00s].\n",
      "creating S4 object  ... done [0.00s].\n"
     ]
    },
    {
     "name": "stderr",
     "output_type": "stream",
     "text": [
      "To reduce overplotting, jitter is added! Use jitter = 0 to prevent jitter.\n",
      "\n"
     ]
    },
    {
     "data": {
      "image/png": "[encoded data removed]",
      "text/plain": [
       "plot without title"
      ]
     },
     "metadata": {
      "image/png": {
       "height": 420,
       "width": 420
      }
     },
     "output_type": "display_data"
    }
   ],
   "source": [
    "rules <- apriori(trans, parameter = list(supp = 0.005, conf = 0.7, maxlen = 3))\n",
    "rules <- subset(rules, lift > 2)\n",
    "plot(rules)"
   ]
  },
  {
   "cell_type": "code",
   "execution_count": 99,
   "id": "fe8a99b1",
   "metadata": {
    "vscode": {
     "languageId": "r"
    }
   },
   "outputs": [
    {
     "name": "stdout",
     "output_type": "stream",
     "text": [
      "     lhs                                     rhs                                   support confidence   coverage      lift count\n",
      "[1]  {ROSES REGENCY TEACUP AND SAUCER}    => {GREEN REGENCY TEACUP AND SAUCER}  0.03979308  0.7322176 0.05434597 13.820214   700\n",
      "[2]  {GREEN REGENCY TEACUP AND SAUCER}    => {ROSES REGENCY TEACUP AND SAUCER}  0.03979308  0.7510730 0.05298164 13.820214   700\n",
      "[3]  {PINK REGENCY TEACUP AND SAUCER}     => {GREEN REGENCY TEACUP AND SAUCER}  0.03274402  0.8205128 0.03990677 15.486739   576\n",
      "[4]  {PINK REGENCY TEACUP AND SAUCER}     => {ROSES REGENCY TEACUP AND SAUCER}  0.03098175  0.7763533 0.03990677 14.285388   545\n",
      "[5]  {GARDENERS KNEELING PAD CUP OF TEA}  => {GARDENERS KNEELING PAD KEEP CALM} 0.03075436  0.7213333 0.04263544 14.130261   541\n",
      "[6]  {PINK REGENCY TEACUP AND SAUCER,                                                                                           \n",
      "      ROSES REGENCY TEACUP AND SAUCER}    => {GREEN REGENCY TEACUP AND SAUCER}  0.02796885  0.9027523 0.03098175 17.038965   492\n",
      "[7]  {GREEN REGENCY TEACUP AND SAUCER,                                                                                          \n",
      "      PINK REGENCY TEACUP AND SAUCER}     => {ROSES REGENCY TEACUP AND SAUCER}  0.02796885  0.8541667 0.03274402 15.717203   492\n",
      "[8]  {GREEN REGENCY TEACUP AND SAUCER,                                                                                          \n",
      "      ROSES REGENCY TEACUP AND SAUCER}    => {PINK REGENCY TEACUP AND SAUCER}   0.02796885  0.7028571 0.03979308 17.612479   492\n",
      "[9]  {JUMBO BAG PINK POLKADOT,                                                                                                  \n",
      "      JUMBO STORAGE BAG SUKI}             => {JUMBO BAG RED RETROSPOT}          0.02302314  0.8019802 0.02870786  7.290767   405\n",
      "[10] {JUMBO SHOPPER VINTAGE RED PAISLEY,                                                                                        \n",
      "      JUMBO STORAGE BAG SUKI}             => {JUMBO BAG RED RETROSPOT}          0.02182934  0.7485380 0.02916264  6.804926   384\n"
     ]
    }
   ],
   "source": [
    "inspect(head(sort(rules, by = \"count\", decreasing = TRUE), 10))"
   ]
  },
  {
   "cell_type": "code",
   "execution_count": 100,
   "id": "34e03c4c",
   "metadata": {
    "vscode": {
     "languageId": "r"
    }
   },
   "outputs": [
    {
     "name": "stderr",
     "output_type": "stream",
     "text": [
      "Warning message in asMethod(object):\n",
      "\"removing duplicated items in transactions\"\n"
     ]
    },
    {
     "name": "stdout",
     "output_type": "stream",
     "text": [
      "Apriori\n",
      "\n",
      "Parameter specification:\n",
      " confidence minval smax arem  aval originalSupport maxtime support minlen\n",
      "        0.6    0.1    1 none FALSE            TRUE       5    0.02      1\n",
      " maxlen target  ext\n",
      "      3  rules TRUE\n",
      "\n",
      "Algorithmic control:\n",
      " filter tree heap memopt load sort verbose\n",
      "    0.1 TRUE TRUE  FALSE TRUE    2    TRUE\n",
      "\n",
      "Absolute minimum support count: 8 \n",
      "\n",
      "set item appearances ...[0 item(s)] done [0.00s].\n",
      "set transactions ...[1229 item(s), 447 transaction(s)] done [0.00s].\n",
      "sorting and recoding items ... [229 item(s)] done [0.00s].\n",
      "creating transaction tree ... done [0.00s].\n",
      "checking subsets of size 1 2 3"
     ]
    },
    {
     "name": "stderr",
     "output_type": "stream",
     "text": [
      "Warning message in apriori(ger_trans, parameter = list(supp = 0.02, conf = 0.6, :\n",
      "\"Mining stopped (maxlen reached). Only patterns up to a length of 3 returned!\"\n"
     ]
    },
    {
     "name": "stdout",
     "output_type": "stream",
     "text": [
      " done [0.00s].\n",
      "writing ... [170 rule(s)] done [0.00s].\n",
      "creating S4 object  ... done [0.00s].\n"
     ]
    },
    {
     "name": "stderr",
     "output_type": "stream",
     "text": [
      "To reduce overplotting, jitter is added! Use jitter = 0 to prevent jitter.\n",
      "\n"
     ]
    },
    {
     "data": {
      "image/png": "[encoded data removed]",
      "text/plain": [
       "plot without title"
      ]
     },
     "metadata": {
      "image/png": {
       "height": 420,
       "width": 420
      }
     },
     "output_type": "display_data"
    }
   ],
   "source": [
    "# Convert InvoiceNo to character (required by arules)\n",
    "ger_data$InvoiceNo <- as.character(ger_data$InvoiceNo)\n",
    "\n",
    "# Convert to transactions using split\n",
    "ger_transactions_list <- split(ger_data$Description, ger_data$InvoiceNo)\n",
    "\n",
    "# Convert to \"transactions\" object\n",
    "ger_trans <- as(ger_transactions_list, \"transactions\")\n",
    "\n",
    "ger_rules <- apriori(ger_trans, parameter = list(supp = 0.02, conf = 0.6, maxlen = 3))\n",
    "\n",
    "plot(ger_rules)"
   ]
  },
  {
   "cell_type": "code",
   "execution_count": 101,
   "id": "5db74afd",
   "metadata": {
    "vscode": {
     "languageId": "r"
    }
   },
   "outputs": [
    {
     "name": "stdout",
     "output_type": "stream",
     "text": [
      "     lhs                                     rhs                                     support confidence   coverage      lift count\n",
      "[1]  {ROUND SNACK BOXES SET OF 4 FRUITS}  => {ROUND SNACK BOXES SET OF4 WOODLAND} 0.13422819  0.8333333 0.16107383  3.325893    60\n",
      "[2]  {SPACEBOY LUNCH BOX}                 => {ROUND SNACK BOXES SET OF4 WOODLAND} 0.07158837  0.6808511 0.10514541  2.717325    32\n",
      "[3]  {PLASTERS IN TIN STRONGMAN}          => {PLASTERS IN TIN CIRCUS PARADE}      0.04921700  0.6875000 0.07158837  5.798349    22\n",
      "[4]  {JUMBO BAG RED RETROSPOT}            => {JUMBO BAG WOODLAND ANIMALS}         0.04921700  0.6111111 0.08053691  5.938406    22\n",
      "[5]  {PLASTERS IN TIN CIRCUS PARADE,                                                                                              \n",
      "      ROUND SNACK BOXES SET OF 4 FRUITS}  => {ROUND SNACK BOXES SET OF4 WOODLAND} 0.04250559  0.8260870 0.05145414  3.296972    19\n",
      "[6]  {PLASTERS IN TIN CIRCUS PARADE,                                                                                              \n",
      "      ROUND SNACK BOXES SET OF4 WOODLAND} => {ROUND SNACK BOXES SET OF 4 FRUITS}  0.04250559  0.7307692 0.05816555  4.536859    19\n",
      "[7]  {PLASTERS IN TIN WOODLAND ANIMALS,                                                                                           \n",
      "      ROUND SNACK BOXES SET OF 4 FRUITS}  => {ROUND SNACK BOXES SET OF4 WOODLAND} 0.04250559  0.8636364 0.04921700  3.446834    19\n",
      "[8]  {CHILDRENS CUTLERY SPACEBOY}         => {CHILDRENS CUTLERY DOLLY GIRL}       0.04026846  0.8181818 0.04921700 15.901186    18\n",
      "[9]  {CHILDRENS CUTLERY DOLLY GIRL}       => {CHILDRENS CUTLERY SPACEBOY}         0.04026846  0.7826087 0.05145414 15.901186    18\n",
      "[10] {PLASTERS IN TIN CIRCUS PARADE,                                                                                              \n",
      "      ROUND SNACK BOXES SET OF4 WOODLAND} => {PLASTERS IN TIN WOODLAND ANIMALS}   0.04026846  0.6923077 0.05816555  4.912088    18\n"
     ]
    }
   ],
   "source": [
    "inspect(head(sort(ger_rules, by = \"count\", decreasing = TRUE), 10))"
   ]
  },
  {
   "cell_type": "code",
   "execution_count": 102,
   "id": "803a71ba",
   "metadata": {
    "vscode": {
     "languageId": "r"
    }
   },
   "outputs": [
    {
     "name": "stderr",
     "output_type": "stream",
     "text": [
      "Warning message in asMethod(object):\n",
      "\"removing duplicated items in transactions\"\n"
     ]
    },
    {
     "name": "stdout",
     "output_type": "stream",
     "text": [
      "Apriori\n",
      "\n",
      "Parameter specification:\n",
      " confidence minval smax arem  aval originalSupport maxtime support minlen\n",
      "        0.7    0.1    1 none FALSE            TRUE       5    0.02      1\n",
      " maxlen target  ext\n",
      "      3  rules TRUE\n",
      "\n",
      "Algorithmic control:\n",
      " filter tree heap memopt load sort verbose\n",
      "    0.1 TRUE TRUE  FALSE TRUE    2    TRUE\n",
      "\n",
      "Absolute minimum support count: 7 \n",
      "\n",
      "set item appearances ...[0 item(s)] done [0.00s].\n",
      "set transactions ...[1152 item(s), 385 transaction(s)] done [0.00s].\n",
      "sorting and recoding items ... [212 item(s)] done [0.00s].\n",
      "creating transaction tree ... done [0.00s].\n",
      "checking subsets of size 1 2 3"
     ]
    },
    {
     "name": "stderr",
     "output_type": "stream",
     "text": [
      "Warning message in apriori(fra_trans, parameter = list(supp = 0.02, conf = 0.7, :\n",
      "\"Mining stopped (maxlen reached). Only patterns up to a length of 3 returned!\"\n"
     ]
    },
    {
     "name": "stdout",
     "output_type": "stream",
     "text": [
      " done [0.00s].\n",
      "writing ... [421 rule(s)] done [0.00s].\n",
      "creating S4 object  ... done [0.00s].\n"
     ]
    },
    {
     "name": "stderr",
     "output_type": "stream",
     "text": [
      "To reduce overplotting, jitter is added! Use jitter = 0 to prevent jitter.\n",
      "\n"
     ]
    },
    {
     "data": {
      "image/png": "[encoded data removed]",
      "text/plain": [
       "plot without title"
      ]
     },
     "metadata": {
      "image/png": {
       "height": 420,
       "width": 420
      }
     },
     "output_type": "display_data"
    }
   ],
   "source": [
    "# Convert InvoiceNo to character (required by arules)\n",
    "fra_data$InvoiceNo <- as.character(fra_data$InvoiceNo)\n",
    "\n",
    "# Convert to transactions using split\n",
    "fra_transactions_list <- split(fra_data$Description, fra_data$InvoiceNo)\n",
    "\n",
    "# Convert to \"transactions\" object\n",
    "fra_trans <- as(fra_transactions_list, \"transactions\")\n",
    "\n",
    "fra_rules <- apriori(fra_trans, parameter = list(supp = 0.02, conf = 0.7, maxlen = 3))\n",
    "fra_rules <- subset(fra_rules, lift > 1.2)\n",
    "\n",
    "plot(fra_rules)"
   ]
  },
  {
   "cell_type": "code",
   "execution_count": 103,
   "id": "24ad9814",
   "metadata": {
    "vscode": {
     "languageId": "r"
    }
   },
   "outputs": [
    {
     "name": "stdout",
     "output_type": "stream",
     "text": [
      "     lhs                                 rhs                                   support confidence   coverage      lift count\n",
      "[1]  {PLASTERS IN TIN SPACEBOY}       => {PLASTERS IN TIN WOODLAND ANIMALS} 0.10649351  0.7592593 0.14025974  4.362908    41\n",
      "[2]  {ALARM CLOCK BAKELIKE GREEN}     => {ALARM CLOCK BAKELIKE RED}         0.08051948  0.8157895 0.09870130  8.488620    31\n",
      "[3]  {ALARM CLOCK BAKELIKE RED}       => {ALARM CLOCK BAKELIKE GREEN}       0.08051948  0.8378378 0.09610390  8.488620    31\n",
      "[4]  {ALARM CLOCK BAKELIKE PINK}      => {ALARM CLOCK BAKELIKE GREEN}       0.07532468  0.7250000 0.10389610  7.345395    29\n",
      "[5]  {ALARM CLOCK BAKELIKE GREEN}     => {ALARM CLOCK BAKELIKE PINK}        0.07532468  0.7631579 0.09870130  7.345395    29\n",
      "[6]  {ALARM CLOCK BAKELIKE PINK}      => {ALARM CLOCK BAKELIKE RED}         0.07532468  0.7250000 0.10389610  7.543919    29\n",
      "[7]  {ALARM CLOCK BAKELIKE RED}       => {ALARM CLOCK BAKELIKE PINK}        0.07532468  0.7837838 0.09610390  7.543919    29\n",
      "[8]  {DOLLY GIRL LUNCH BOX}           => {SPACEBOY LUNCH BOX}               0.07272727  0.7179487 0.10129870  5.641026    28\n",
      "[9]  {PLASTERS IN TIN CIRCUS PARADE,                                                                                        \n",
      "      PLASTERS IN TIN SPACEBOY}       => {PLASTERS IN TIN WOODLAND ANIMALS} 0.07012987  0.7714286 0.09090909  4.432836    27\n",
      "[10] {CHILDRENS CUTLERY SPACEBOY}     => {CHILDRENS CUTLERY DOLLY GIRL}     0.06493506  0.9259259 0.07012987 12.731481    25\n"
     ]
    }
   ],
   "source": [
    "inspect(head(sort(fra_rules, by = \"count\", decreasing = TRUE), 10))"
   ]
  }
 ],
 "metadata": {
  "kernelspec": {
   "display_name": "R (venv)",
   "language": "R",
   "name": "ir_in_venv"
  },
  "language_info": {
   "codemirror_mode": "r",
   "file_extension": ".r",
   "mimetype": "text/x-r-source",
   "name": "R",
   "pygments_lexer": "r",
   "version": "4.4.3"
  }
 },
 "nbformat": 4,
 "nbformat_minor": 5
}
