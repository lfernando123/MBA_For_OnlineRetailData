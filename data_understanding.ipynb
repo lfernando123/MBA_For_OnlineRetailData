{
 "cells": [
  {
   "cell_type": "code",
   "execution_count": 1,
   "id": "506f33b5",
   "metadata": {
    "vscode": {
     "languageId": "r"
    }
   },
   "outputs": [
    {
     "name": "stderr",
     "output_type": "stream",
     "text": [
      "\n",
      "Attaching package: 'dplyr'\n",
      "\n",
      "\n",
      "The following objects are masked from 'package:stats':\n",
      "\n",
      "    filter, lag\n",
      "\n",
      "\n",
      "The following objects are masked from 'package:base':\n",
      "\n",
      "    intersect, setdiff, setequal, union\n",
      "\n",
      "\n",
      "corrplot 0.95 loaded\n",
      "\n",
      "\n",
      "Attaching package: 'psych'\n",
      "\n",
      "\n",
      "The following objects are masked from 'package:ggplot2':\n",
      "\n",
      "    %+%, alpha\n",
      "\n",
      "\n",
      "Loading required package: lattice\n",
      "\n"
     ]
    }
   ],
   "source": [
    "# Load necessary libraries\n",
    "library(readxl)\n",
    "library(dplyr)\n",
    "library(ggplot2)\n",
    "library(tidyr)\n",
    "library(summarytools)\n",
    "library(corrplot)\n",
    "library(DataExplorer)\n",
    "library(psych)\n",
    "library(caret)"
   ]
  },
  {
   "cell_type": "code",
   "execution_count": 3,
   "id": "93bb6665",
   "metadata": {
    "vscode": {
     "languageId": "r"
    }
   },
   "outputs": [],
   "source": [
    "# Load the Excel file\n",
    "data <- read_excel(\"online_retail.xlsx\")"
   ]
  },
  {
   "cell_type": "code",
   "execution_count": 4,
   "id": "ba30e053",
   "metadata": {
    "vscode": {
     "languageId": "r"
    }
   },
   "outputs": [
    {
     "name": "stdout",
     "output_type": "stream",
     "text": [
      "tibble [541,909 × 8] (S3: tbl_df/tbl/data.frame)\n",
      " $ InvoiceNo  : chr [1:541909] \"536365\" \"536365\" \"536365\" \"536365\" ...\n",
      " $ StockCode  : chr [1:541909] \"85123A\" \"71053\" \"84406B\" \"84029G\" ...\n",
      " $ Description: chr [1:541909] \"WHITE HANGING HEART T-LIGHT HOLDER\" \"WHITE METAL LANTERN\" \"CREAM CUPID HEARTS COAT HANGER\" \"KNITTED UNION FLAG HOT WATER BOTTLE\" ...\n",
      " $ Quantity   : num [1:541909] 6 6 8 6 6 2 6 6 6 32 ...\n",
      " $ InvoiceDate: POSIXct[1:541909], format: \"2010-12-01 08:26:00\" \"2010-12-01 08:26:00\" ...\n",
      " $ UnitPrice  : num [1:541909] 2.55 3.39 2.75 3.39 3.39 7.65 4.25 1.85 1.85 1.69 ...\n",
      " $ CustomerID : num [1:541909] 17850 17850 17850 17850 17850 ...\n",
      " $ Country    : chr [1:541909] \"United Kingdom\" \"United Kingdom\" \"United Kingdom\" \"United Kingdom\" ...\n"
     ]
    },
    {
     "data": {
      "text/plain": [
       "  InvoiceNo          StockCode         Description           Quantity        \n",
       " Length:541909      Length:541909      Length:541909      Min.   :-80995.00  \n",
       " Class :character   Class :character   Class :character   1st Qu.:     1.00  \n",
       " Mode  :character   Mode  :character   Mode  :character   Median :     3.00  \n",
       "                                                          Mean   :     9.55  \n",
       "                                                          3rd Qu.:    10.00  \n",
       "                                                          Max.   : 80995.00  \n",
       "                                                                             \n",
       "  InvoiceDate                       UnitPrice           CustomerID    \n",
       " Min.   :2010-12-01 08:26:00.00   Min.   :-11062.06   Min.   :12346   \n",
       " 1st Qu.:2011-03-28 11:34:00.00   1st Qu.:     1.25   1st Qu.:13953   \n",
       " Median :2011-07-19 17:17:00.00   Median :     2.08   Median :15152   \n",
       " Mean   :2011-07-04 13:34:57.16   Mean   :     4.61   Mean   :15288   \n",
       " 3rd Qu.:2011-10-19 11:27:00.00   3rd Qu.:     4.13   3rd Qu.:16791   \n",
       " Max.   :2011-12-09 12:50:00.00   Max.   : 38970.00   Max.   :18287   \n",
       "                                                      NA's   :135080  \n",
       "   Country         \n",
       " Length:541909     \n",
       " Class :character  \n",
       " Mode  :character  \n",
       "                   \n",
       "                   \n",
       "                   \n",
       "                   "
      ]
     },
     "metadata": {},
     "output_type": "display_data"
    },
    {
     "data": {
      "text/html": [
       "<table class=\"dataframe\">\n",
       "<caption>A summarytools: 8 × 8</caption>\n",
       "<thead>\n",
       "\t<tr><th></th><th scope=col>No</th><th scope=col>Variable</th><th scope=col>Stats / Values</th><th scope=col>Freqs (% of Valid)</th><th scope=col>Graph</th><th scope=col>text.graph</th><th scope=col>Valid</th><th scope=col>Missing</th></tr>\n",
       "\t<tr><th></th><th scope=col>&lt;dbl&gt;</th><th scope=col>&lt;chr&gt;</th><th scope=col>&lt;chr&gt;</th><th scope=col>&lt;chr&gt;</th><th scope=col>&lt;chr&gt;</th><th scope=col>&lt;chr&gt;</th><th scope=col>&lt;chr&gt;</th><th scope=col>&lt;chr&gt;</th></tr>\n",
       "</thead>\n",
       "<tbody>\n",
       "\t<tr><th scope=row>1</th><td>1</td><td><span style=white-space:pre-wrap>InvoiceNo\\\n",
       "[character]           </span></td><td><span style=white-space:pre-wrap>1\\. 573585\\\n",
       "2\\. 581219\\\n",
       "3\\. 581492\\\n",
       "4\\. 580729\\\n",
       "5\\. 558475\\\n",
       "6\\. 579777\\\n",
       "7\\. 581217\\\n",
       "8\\. 537434\\\n",
       "9\\. 580730\\\n",
       "10\\. 538071\\\n",
       "[ 25890 others ]                                                                                                                                                                          </span></td><td><span style=white-space:pre-wrap>\\  1114 ( 0.2%)\\\n",
       "\\   749 ( 0.1%)\\\n",
       "\\   731 ( 0.1%)\\\n",
       "\\   721 ( 0.1%)\\\n",
       "\\   705 ( 0.1%)\\\n",
       "\\   687 ( 0.1%)\\\n",
       "\\   676 ( 0.1%)\\\n",
       "\\   675 ( 0.1%)\\\n",
       "\\   662 ( 0.1%)\\\n",
       "\\   652 ( 0.1%)\\\n",
       "\\534537 (98.6%)</span></td><td><span style=white-space:pre-wrap>&lt;img style=\"border:none;background-color:transparent;padding:0;max-width:max-content;\" src=\"data:image/png;base64, iVBORw0KGgoAAAANSUhEUgAAAKAAAAEKBAMAAABnEUMiAAAAIGNIUk0AAHomAACAhAAA+gAAAIDoAAB1MAAA6mAAADqYAAAXcJy6UTwAAAAPUExURf////3+/aampvDw8P///7GHRIEAAAACdFJOUwAAdpPNOAAAAAFiS0dEAIgFHUgAAAAHdElNRQfpBBgQGyeNqOTbAAAApklEQVR42u3VQRECQRAEwbOAhAYH4N/bfXBAE7ETkyUgv3VdapRHKyAQCARuB2veYjBAIBAIBJbAmjcHDBAIBAKBp4I1bw4YIBAIBAJPBWveHDBAIBAIBJbAmrcYDBAIBAKBJbDmLQYDBAKBQGAJrHlzwACBQCAQeCpY8+aAAQKBQCDwVLDmzQEDBAKBQGAJrHmLwWetL/j6lHoDgUAg8L9gfQH6rRvOh7pqZ49ItAAAAABJRU5ErkJggg==\"&gt;                        </span></td><td><span style=white-space:pre-wrap> \\ \n",
       " \\ \n",
       " \\ \n",
       " \\ \n",
       " \\ \n",
       " \\ \n",
       " \\ \n",
       " \\ \n",
       " \\ \n",
       " \\ \n",
       "IIIIIIIIIIIIIIIIIII                                                                                                                            </span></td><td>541909\\\n",
       "(100.0%)</td><td><span style=white-space:pre-wrap>0\\\n",
       "(0.0%)      </span></td></tr>\n",
       "\t<tr><th scope=row>2</th><td>2</td><td><span style=white-space:pre-wrap>StockCode\\\n",
       "[character]           </span></td><td><span style=white-space:pre-wrap>1\\. 85123A\\\n",
       "2\\. 22423\\\n",
       "3\\. 85099B\\\n",
       "4\\. 47566\\\n",
       "5\\. 20725\\\n",
       "6\\. 84879\\\n",
       "7\\. 22720\\\n",
       "8\\. 22197\\\n",
       "9\\. 21212\\\n",
       "10\\. 20727\\\n",
       "[ 4060 others ]                                                                                                                                                                                   </span></td><td><span style=white-space:pre-wrap>\\  2313 ( 0.4%)\\\n",
       "\\  2203 ( 0.4%)\\\n",
       "\\  2159 ( 0.4%)\\\n",
       "\\  1727 ( 0.3%)\\\n",
       "\\  1639 ( 0.3%)\\\n",
       "\\  1502 ( 0.3%)\\\n",
       "\\  1477 ( 0.3%)\\\n",
       "\\  1476 ( 0.3%)\\\n",
       "\\  1385 ( 0.3%)\\\n",
       "\\  1350 ( 0.2%)\\\n",
       "\\524678 (96.8%)</span></td><td><span style=white-space:pre-wrap>&lt;img style=\"border:none;background-color:transparent;padding:0;max-width:max-content;\" src=\"data:image/png;base64, iVBORw0KGgoAAAANSUhEUgAAAJ0AAAEKBAMAAAD6HEqqAAAAIGNIUk0AAHomAACAhAAA+gAAAIDoAAB1MAAA6mAAADqYAAAXcJy6UTwAAAAPUExURf////3+/aampvDw8P///7GHRIEAAAACdFJOUwAAdpPNOAAAAAFiS0dEAIgFHUgAAAAHdElNRQfpBBgQGyeNqOTbAAAAqElEQVR42u3UQRUCUQwEwZUADghIWP/euKAgzOHnpVpAHfu69G/1zPTg8Xg83iovxK31isfj8Xi8hhfixnjF4/F4PN4BXogb4xWPx+PxeAd4IW6MVzwej8fjNbwQt9YrHo/H4/EaXohb6xWPx+PxeA0vxI3xisfj8Xi8A7wQN8YrHo/H4/EO8ELcGK94PB6Px2t4IW6t9w71+nmfOxOPx+Pxsl769+r3BXVSpIzFv4LyAAAAAElFTkSuQmCC\"&gt;                        </span></td><td><span style=white-space:pre-wrap> \\ \n",
       " \\ \n",
       " \\ \n",
       " \\ \n",
       " \\ \n",
       " \\ \n",
       " \\ \n",
       " \\ \n",
       " \\ \n",
       " \\ \n",
       "IIIIIIIIIIIIIIIIIII                                                                                                                            </span></td><td>541909\\\n",
       "(100.0%)</td><td><span style=white-space:pre-wrap>0\\\n",
       "(0.0%)      </span></td></tr>\n",
       "\t<tr><th scope=row>3</th><td>3</td><td><span style=white-space:pre-wrap>Description\\\n",
       "[character]         </span></td><td><span style=white-space:pre-wrap>1\\. WHITE HANGING HEART T-LIG\\\n",
       "2\\. REGENCY CAKESTAND 3 TIER\\\n",
       "3\\. JUMBO BAG RED RETROSPOT\\\n",
       "4\\. PARTY BUNTING\\\n",
       "5\\. LUNCH BAG RED RETROSPOT\\\n",
       "6\\. ASSORTED COLOUR BIRD ORNA\\\n",
       "7\\. SET OF 3 CAKE TINS PANTRY\\\n",
       "8\\. PACK OF 72 RETROSPOT CAKE\\\n",
       "9\\. LUNCH BAG  BLACK SKULL.\\\n",
       "10\\. NATURAL SLATE HEART CHALK\\\n",
       "[ 4201 others ]</span></td><td><span style=white-space:pre-wrap>\\  2369 ( 0.4%)\\\n",
       "\\  2200 ( 0.4%)\\\n",
       "\\  2159 ( 0.4%)\\\n",
       "\\  1727 ( 0.3%)\\\n",
       "\\  1638 ( 0.3%)\\\n",
       "\\  1501 ( 0.3%)\\\n",
       "\\  1473 ( 0.3%)\\\n",
       "\\  1385 ( 0.3%)\\\n",
       "\\  1350 ( 0.2%)\\\n",
       "\\  1280 ( 0.2%)\\\n",
       "\\523373 (96.8%)</span></td><td><span style=white-space:pre-wrap>&lt;img style=\"border:none;background-color:transparent;padding:0;max-width:max-content;\" src=\"data:image/png;base64, iVBORw0KGgoAAAANSUhEUgAAAJ0AAAEKBAMAAAD6HEqqAAAAIGNIUk0AAHomAACAhAAA+gAAAIDoAAB1MAAA6mAAADqYAAAXcJy6UTwAAAAPUExURf////3+/aampvDw8P///7GHRIEAAAACdFJOUwAAdpPNOAAAAAFiS0dEAIgFHUgAAAAHdElNRQfpBBgQGygdF/lKAAAAqElEQVR42u3UQRUCUQwEwZUADghIWP/euKAgzOHnpVpAHfu69G/1zPTg8Xg83iovxK31isfj8Xi8hhfixnjF4/F4PN4BXogb4xWPx+PxeAd4IW6MVzwej8fjNbwQt9YrHo/H4/EaXohb6xWPx+PxeA0vxI3xisfj8Xi8A7wQN8YrHo/H4/EO8ELcGK94PB6Px2t4IW6t9w71+nmfOxOPx+Pxsl769+r3BXVSpIzFv4LyAAAAAElFTkSuQmCC\"&gt;                        </span></td><td><span style=white-space:pre-wrap> \\ \n",
       " \\ \n",
       " \\ \n",
       " \\ \n",
       " \\ \n",
       " \\ \n",
       " \\ \n",
       " \\ \n",
       " \\ \n",
       " \\ \n",
       "IIIIIIIIIIIIIIIIIII                                                                                                                            </span></td><td>540455\\\n",
       "(99.7%) </td><td><span style=white-space:pre-wrap>1454\\\n",
       "(0.3%)   </span></td></tr>\n",
       "\t<tr><th scope=row>4</th><td>4</td><td><span style=white-space:pre-wrap>Quantity\\\n",
       "[numeric]              </span></td><td><span style=white-space:pre-wrap>Mean (sd) : 9.6 (218.1)\\\n",
       "min &lt; med &lt; max:\\\n",
       "-80995 &lt; 3 &lt; 80995\\\n",
       "IQR (CV) : 9 (22.8)                                                                                                                                                                                                                                                         </span></td><td><span style=white-space:pre-wrap>722 distinct values                                                                                                                                                                                                     </span></td><td><span style=white-space:pre-wrap>&lt;img style=\"border:none;background-color:transparent;padding:0;max-width:max-content;\" src=\"data:image/png;base64, iVBORw0KGgoAAAANSUhEUgAAAJgAAABuBAMAAAApJ8cWAAAAIGNIUk0AAHomAACAhAAA+gAAAIDoAAB1MAAA6mAAADqYAAAXcJy6UTwAAAAPUExURf////3+/aampvDw8P///7GHRIEAAAACdFJOUwAAdpPNOAAAAAFiS0dEAIgFHUgAAAAHdElNRQfpBBgQGygdF/lKAAAAVklEQVRo3u3ZQQ3AMAwEQVNoIbgMav7ckiBIZOU5+z4NgYtQp2fbm7PN5hyrqh8Gg8FgMBgMBoPBYDAYDAaDwWAwGAwGg8FgXWxduNewb0LnWF4p1GkAYbAVB6V9eXEAAAAASUVORK5CYII=\"&gt;                                                                                                                                    </span></td><td><span style=white-space:pre-wrap>\\ \\ \\ \\ \\ \\ \\ \\ \\ \\ :\\\n",
       "\\ \\ \\ \\ \\ \\ \\ \\ \\ \\ :\\\n",
       "\\ \\ \\ \\ \\ \\ \\ \\ \\ \\ :\\\n",
       "\\ \\ \\ \\ \\ \\ \\ \\ \\ \\ :\\\n",
       "\\ \\ \\ \\ \\ \\ \\ \\ \\ \\ :                                </span></td><td>541909\\\n",
       "(100.0%)</td><td><span style=white-space:pre-wrap>0\\\n",
       "(0.0%)      </span></td></tr>\n",
       "\t<tr><th scope=row>5</th><td>5</td><td>InvoiceDate\\\n",
       "[POSIXct,\\\n",
       "POSIXt]</td><td><span style=white-space:pre-wrap>min : 2010-12-01 08:26:00\\\n",
       "med : 2011-07-19 17:17:00\\\n",
       "max : 2011-12-09 12:50:00\\\n",
       "range : 1y 0m 8d 4H 24M 0S                                                                                                                                                                                                                                </span></td><td><span style=white-space:pre-wrap>23260 distinct values                                                                                                                                                                                                   </span></td><td>&lt;img style=\"border:none;background-color:transparent;padding:0;max-width:max-content;\" src=\"data:image/png;base64, iVBORw0KGgoAAAANSUhEUgAAAJgAAABuBAMAAAApJ8cWAAAAIGNIUk0AAHomAACAhAAA+gAAAIDoAAB1MAAA6mAAADqYAAAXcJy6UTwAAAAPUExURf////3+/aampvDw8P///7GHRIEAAAACdFJOUwAAdpPNOAAAAAFiS0dEAIgFHUgAAAAHdElNRQfpBBgQGylqEMncAAAAuklEQVRo3u3YUQrDIBBFUbdQd1Czg7r/vaVTOjAGA+n4PgK9D+Yn6GGSSCSWQjJ5rKa2d2RY7/2lwKyppsI2g8DAwMDA/g6zvUSGGQQGdoivMQnmEBgYGNh57LPzVGE2EewGWNxMlrEI/YJ9DgZkmI3zxZrFvKP6HduzWPXThYj5Q7+CNU8ABswnHt/kDNsmwBSb1SXMb1eChcphoZt17KTAwG6FDf+gq9hwDQwMDAwMDAxMjDVJCslkB+HVs3+Sbs/4AAAAAElFTkSuQmCC\"&gt;</td><td>\\ \\ \\ \\ \\ \\ \\ \\ \\ \\ \\ \\ \\ \\ \\ \\ \\ \\ :\\\n",
       "\\ \\ \\ \\ \\ \\ \\ \\ \\ \\ \\ \\ \\ \\ \\ \\ . :\\\n",
       ". \\ \\ \\ \\ \\ \\ \\ \\ \\ \\ \\ \\ . : :\\\n",
       ": : : : : : : : : :\\\n",
       ": : : : : : : : : :</td><td>541909\\\n",
       "(100.0%)</td><td><span style=white-space:pre-wrap>0\\\n",
       "(0.0%)      </span></td></tr>\n",
       "\t<tr><th scope=row>6</th><td>6</td><td><span style=white-space:pre-wrap>UnitPrice\\\n",
       "[numeric]             </span></td><td><span style=white-space:pre-wrap>Mean (sd) : 4.6 (96.8)\\\n",
       "min &lt; med &lt; max:\\\n",
       "-11062.1 &lt; 2.1 &lt; 38970\\\n",
       "IQR (CV) : 2.9 (21)                                                                                                                                                                                                                                                      </span></td><td><span style=white-space:pre-wrap>1630 distinct values                                                                                                                                                                                                    </span></td><td><span style=white-space:pre-wrap>&lt;img style=\"border:none;background-color:transparent;padding:0;max-width:max-content;\" src=\"data:image/png;base64, iVBORw0KGgoAAAANSUhEUgAAAJgAAABuBAMAAAApJ8cWAAAAIGNIUk0AAHomAACAhAAA+gAAAIDoAAB1MAAA6mAAADqYAAAXcJy6UTwAAAAPUExURf////3+/aampvDw8P///7GHRIEAAAACdFJOUwAAdpPNOAAAAAFiS0dEAIgFHUgAAAAHdElNRQfpBBgQGyrzGZhmAAAASUlEQVRo3u3MMQ0AIAwAsFmYBIYE/HvjJ+GAcJFWQCO4kYuqanlsk/UxZDKZTCaTyWQymUwmk8lkMplMJpPJZDKZTPZJVk8ENyYr+gcEglnZiQAAAABJRU5ErkJggg==\"&gt;                                                                                                                                                    </span></td><td><span style=white-space:pre-wrap>\\ \\ \\ \\ :\\\n",
       "\\ \\ \\ \\ :\\\n",
       "\\ \\ \\ \\ :\\\n",
       "\\ \\ \\ \\ :\\\n",
       "\\ \\ \\ \\ :                                                                                                                          </span></td><td>541909\\\n",
       "(100.0%)</td><td><span style=white-space:pre-wrap>0\\\n",
       "(0.0%)      </span></td></tr>\n",
       "\t<tr><th scope=row>7</th><td>7</td><td><span style=white-space:pre-wrap>CustomerID\\\n",
       "[numeric]            </span></td><td><span style=white-space:pre-wrap>Mean (sd) : 15287.7 (1713.6)\\\n",
       "min &lt; med &lt; max:\\\n",
       "12346 &lt; 15152 &lt; 18287\\\n",
       "IQR (CV) : 2838 (0.1)                                                                                                                                                                                                                                               </span></td><td><span style=white-space:pre-wrap>4372 distinct values                                                                                                                                                                                                    </span></td><td><span style=white-space:pre-wrap>&lt;img style=\"border:none;background-color:transparent;padding:0;max-width:max-content;\" src=\"data:image/png;base64, iVBORw0KGgoAAAANSUhEUgAAAJgAAABuBAMAAAApJ8cWAAAAIGNIUk0AAHomAACAhAAA+gAAAIDoAAB1MAAA6mAAADqYAAAXcJy6UTwAAAAPUExURf////3+/aampvDw8P///7GHRIEAAAACdFJOUwAAdpPNOAAAAAFiS0dEAIgFHUgAAAAHdElNRQfpBBgQGyuEHqjwAAAArUlEQVRo3u3WUQ6DIBBFUbagOxB3UPa/tyrz8awttsIkxnLflyhzQiYkYwikJkM5cc00/JLv2JyWgPWBjZur044lfb8nZu3wwvI+MDCwq7FxNyIPsLwzHmLptW6DqdiSXz4qMRVfiKlxDpga/oapcQ6Yjgd2CtP8s8cmLH1ag3WDRV2hdmze1YGBgYGBgXWO2Zx1wmwN9odY+X+sAisXg4GBgYGBgd0Hiy4JpCZPghJICQ6hv3wAAAAASUVORK5CYII=\"&gt;                </span></td><td><span style=white-space:pre-wrap>. \\ \\ \\ \\ : . \\ \\ \\ \\ \\ \\ \\ \\ .\\\n",
       ": : : : : : . : : :\\\n",
       ": : : : : : : : : :\\\n",
       ": : : : : : : : : :\\\n",
       ": : : : : : : : : :                                                                    </span></td><td>406829\\\n",
       "(75.1%) </td><td>135080\\\n",
       "(24.9%)</td></tr>\n",
       "\t<tr><th scope=row>8</th><td>8</td><td><span style=white-space:pre-wrap>Country\\\n",
       "[character]             </span></td><td><span style=white-space:pre-wrap>1\\. United Kingdom\\\n",
       "2\\. Germany\\\n",
       "3\\. France\\\n",
       "4\\. EIRE\\\n",
       "5\\. Spain\\\n",
       "6\\. Netherlands\\\n",
       "7\\. Belgium\\\n",
       "8\\. Switzerland\\\n",
       "9\\. Portugal\\\n",
       "10\\. Australia\\\n",
       "[ 28 others ]                                                                                                                                                       </span></td><td><span style=white-space:pre-wrap>\\495478 (91.4%)\\\n",
       "\\  9495 ( 1.8%)\\\n",
       "\\  8557 ( 1.6%)\\\n",
       "\\  8196 ( 1.5%)\\\n",
       "\\  2533 ( 0.5%)\\\n",
       "\\  2371 ( 0.4%)\\\n",
       "\\  2069 ( 0.4%)\\\n",
       "\\  2002 ( 0.4%)\\\n",
       "\\  1519 ( 0.3%)\\\n",
       "\\  1259 ( 0.2%)\\\n",
       "\\  8430 ( 1.6%)</span></td><td><span style=white-space:pre-wrap>&lt;img style=\"border:none;background-color:transparent;padding:0;max-width:max-content;\" src=\"data:image/png;base64, iVBORw0KGgoAAAANSUhEUgAAAJUAAAEKBAMAAADpywpeAAAAIGNIUk0AAHomAACAhAAA+gAAAIDoAAB1MAAA6mAAADqYAAAXcJy6UTwAAAAPUExURf////3+/aampvDw8P///7GHRIEAAAACdFJOUwAAdpPNOAAAAAFiS0dEAIgFHUgAAAAHdElNRQfpBBgQGyuEHqjwAAAArUlEQVR42u3bsQ3CAAxE0YwAG+BkBPbfjQaJFitXWPL7A7zSV/k41O0M9Ppa1/t+LBaLxfpZyRv9DPRYZJ2Vsy4Wi8ViRa3kjb4vzbdsGovFYu2w7GPPso8sFou1w7KPPatYLBaLtcIKUKusYrFYLNYKK0CtsorFYrFYK6wANd4qFovFYrGaVoAabxWLxWKxWE0rQI23isVisVgrrAC1yvKTwWKxWHOt5I3W/30ANyxbqLpepp8AAAAASUVORK5CYII=\"&gt;                </span></td><td><span style=white-space:pre-wrap>IIIIIIIIIIIIIIIIII \\ \n",
       " \\ \n",
       " \\ \n",
       " \\ \n",
       " \\ \n",
       " \\ \n",
       " \\ \n",
       " \\ \n",
       " \\ \n",
       " \\ \n",
       "                                                                                                                             </span></td><td>541909\\\n",
       "(100.0%)</td><td><span style=white-space:pre-wrap>0\\\n",
       "(0.0%)      </span></td></tr>\n",
       "</tbody>\n",
       "</table>\n"
      ],
      "text/latex": [
       "A summarytools: 8 × 8\n",
       "\\begin{tabular}{r|llllllll}\n",
       "  & No & Variable & Stats / Values & Freqs (\\% of Valid) & Graph & text.graph & Valid & Missing\\\\\n",
       "  & <dbl> & <chr> & <chr> & <chr> & <chr> & <chr> & <chr> & <chr>\\\\\n",
       "\\hline\n",
       "\t1 & 1 & InvoiceNo\\textbackslash{}\n",
       "{[}character{]}            & 1\\textbackslash{}. 573585\\textbackslash{}\n",
       "2\\textbackslash{}. 581219\\textbackslash{}\n",
       "3\\textbackslash{}. 581492\\textbackslash{}\n",
       "4\\textbackslash{}. 580729\\textbackslash{}\n",
       "5\\textbackslash{}. 558475\\textbackslash{}\n",
       "6\\textbackslash{}. 579777\\textbackslash{}\n",
       "7\\textbackslash{}. 581217\\textbackslash{}\n",
       "8\\textbackslash{}. 537434\\textbackslash{}\n",
       "9\\textbackslash{}. 580730\\textbackslash{}\n",
       "10\\textbackslash{}. 538071\\textbackslash{}\n",
       "{[} 25890 others {]}                                                                                                                                                                           & \\textbackslash{}  1114 ( 0.2\\%)\\textbackslash{}\n",
       "\\textbackslash{}   749 ( 0.1\\%)\\textbackslash{}\n",
       "\\textbackslash{}   731 ( 0.1\\%)\\textbackslash{}\n",
       "\\textbackslash{}   721 ( 0.1\\%)\\textbackslash{}\n",
       "\\textbackslash{}   705 ( 0.1\\%)\\textbackslash{}\n",
       "\\textbackslash{}   687 ( 0.1\\%)\\textbackslash{}\n",
       "\\textbackslash{}   676 ( 0.1\\%)\\textbackslash{}\n",
       "\\textbackslash{}   675 ( 0.1\\%)\\textbackslash{}\n",
       "\\textbackslash{}   662 ( 0.1\\%)\\textbackslash{}\n",
       "\\textbackslash{}   652 ( 0.1\\%)\\textbackslash{}\n",
       "\\textbackslash{}534537 (98.6\\%) & <img style=\"border:none;background-color:transparent;padding:0;max-width:max-content;\" src=\"data:image/png;base64, iVBORw0KGgoAAAANSUhEUgAAAKAAAAEKBAMAAABnEUMiAAAAIGNIUk0AAHomAACAhAAA+gAAAIDoAAB1MAAA6mAAADqYAAAXcJy6UTwAAAAPUExURf////3+/aampvDw8P///7GHRIEAAAACdFJOUwAAdpPNOAAAAAFiS0dEAIgFHUgAAAAHdElNRQfpBBgQGyeNqOTbAAAApklEQVR42u3VQRECQRAEwbOAhAYH4N/bfXBAE7ETkyUgv3VdapRHKyAQCARuB2veYjBAIBAIBJbAmjcHDBAIBAKBp4I1bw4YIBAIBAJPBWveHDBAIBAIBJbAmrcYDBAIBAKBJbDmLQYDBAKBQGAJrHlzwACBQCAQeCpY8+aAAQKBQCDwVLDmzQEDBAKBQGAJrHmLwWetL/j6lHoDgUAg8L9gfQH6rRvOh7pqZ49ItAAAAABJRU5ErkJggg==\">                         &  \\textbackslash{} \n",
       " \\textbackslash{} \n",
       " \\textbackslash{} \n",
       " \\textbackslash{} \n",
       " \\textbackslash{} \n",
       " \\textbackslash{} \n",
       " \\textbackslash{} \n",
       " \\textbackslash{} \n",
       " \\textbackslash{} \n",
       " \\textbackslash{} \n",
       "IIIIIIIIIIIIIIIIIII                                                                                                                             & 541909\\textbackslash{}\n",
       "(100.0\\%) & 0\\textbackslash{}\n",
       "(0.0\\%)      \\\\\n",
       "\t2 & 2 & StockCode\\textbackslash{}\n",
       "{[}character{]}            & 1\\textbackslash{}. 85123A\\textbackslash{}\n",
       "2\\textbackslash{}. 22423\\textbackslash{}\n",
       "3\\textbackslash{}. 85099B\\textbackslash{}\n",
       "4\\textbackslash{}. 47566\\textbackslash{}\n",
       "5\\textbackslash{}. 20725\\textbackslash{}\n",
       "6\\textbackslash{}. 84879\\textbackslash{}\n",
       "7\\textbackslash{}. 22720\\textbackslash{}\n",
       "8\\textbackslash{}. 22197\\textbackslash{}\n",
       "9\\textbackslash{}. 21212\\textbackslash{}\n",
       "10\\textbackslash{}. 20727\\textbackslash{}\n",
       "{[} 4060 others {]}                                                                                                                                                                                    & \\textbackslash{}  2313 ( 0.4\\%)\\textbackslash{}\n",
       "\\textbackslash{}  2203 ( 0.4\\%)\\textbackslash{}\n",
       "\\textbackslash{}  2159 ( 0.4\\%)\\textbackslash{}\n",
       "\\textbackslash{}  1727 ( 0.3\\%)\\textbackslash{}\n",
       "\\textbackslash{}  1639 ( 0.3\\%)\\textbackslash{}\n",
       "\\textbackslash{}  1502 ( 0.3\\%)\\textbackslash{}\n",
       "\\textbackslash{}  1477 ( 0.3\\%)\\textbackslash{}\n",
       "\\textbackslash{}  1476 ( 0.3\\%)\\textbackslash{}\n",
       "\\textbackslash{}  1385 ( 0.3\\%)\\textbackslash{}\n",
       "\\textbackslash{}  1350 ( 0.2\\%)\\textbackslash{}\n",
       "\\textbackslash{}524678 (96.8\\%) & <img style=\"border:none;background-color:transparent;padding:0;max-width:max-content;\" src=\"data:image/png;base64, iVBORw0KGgoAAAANSUhEUgAAAJ0AAAEKBAMAAAD6HEqqAAAAIGNIUk0AAHomAACAhAAA+gAAAIDoAAB1MAAA6mAAADqYAAAXcJy6UTwAAAAPUExURf////3+/aampvDw8P///7GHRIEAAAACdFJOUwAAdpPNOAAAAAFiS0dEAIgFHUgAAAAHdElNRQfpBBgQGyeNqOTbAAAAqElEQVR42u3UQRUCUQwEwZUADghIWP/euKAgzOHnpVpAHfu69G/1zPTg8Xg83iovxK31isfj8Xi8hhfixnjF4/F4PN4BXogb4xWPx+PxeAd4IW6MVzwej8fjNbwQt9YrHo/H4/EaXohb6xWPx+PxeA0vxI3xisfj8Xi8A7wQN8YrHo/H4/EO8ELcGK94PB6Px2t4IW6t9w71+nmfOxOPx+Pxsl769+r3BXVSpIzFv4LyAAAAAElFTkSuQmCC\">                         &  \\textbackslash{} \n",
       " \\textbackslash{} \n",
       " \\textbackslash{} \n",
       " \\textbackslash{} \n",
       " \\textbackslash{} \n",
       " \\textbackslash{} \n",
       " \\textbackslash{} \n",
       " \\textbackslash{} \n",
       " \\textbackslash{} \n",
       " \\textbackslash{} \n",
       "IIIIIIIIIIIIIIIIIII                                                                                                                             & 541909\\textbackslash{}\n",
       "(100.0\\%) & 0\\textbackslash{}\n",
       "(0.0\\%)      \\\\\n",
       "\t3 & 3 & Description\\textbackslash{}\n",
       "{[}character{]}          & 1\\textbackslash{}. WHITE HANGING HEART T-LIG\\textbackslash{}\n",
       "2\\textbackslash{}. REGENCY CAKESTAND 3 TIER\\textbackslash{}\n",
       "3\\textbackslash{}. JUMBO BAG RED RETROSPOT\\textbackslash{}\n",
       "4\\textbackslash{}. PARTY BUNTING\\textbackslash{}\n",
       "5\\textbackslash{}. LUNCH BAG RED RETROSPOT\\textbackslash{}\n",
       "6\\textbackslash{}. ASSORTED COLOUR BIRD ORNA\\textbackslash{}\n",
       "7\\textbackslash{}. SET OF 3 CAKE TINS PANTRY\\textbackslash{}\n",
       "8\\textbackslash{}. PACK OF 72 RETROSPOT CAKE\\textbackslash{}\n",
       "9\\textbackslash{}. LUNCH BAG  BLACK SKULL.\\textbackslash{}\n",
       "10\\textbackslash{}. NATURAL SLATE HEART CHALK\\textbackslash{}\n",
       "{[} 4201 others {]} & \\textbackslash{}  2369 ( 0.4\\%)\\textbackslash{}\n",
       "\\textbackslash{}  2200 ( 0.4\\%)\\textbackslash{}\n",
       "\\textbackslash{}  2159 ( 0.4\\%)\\textbackslash{}\n",
       "\\textbackslash{}  1727 ( 0.3\\%)\\textbackslash{}\n",
       "\\textbackslash{}  1638 ( 0.3\\%)\\textbackslash{}\n",
       "\\textbackslash{}  1501 ( 0.3\\%)\\textbackslash{}\n",
       "\\textbackslash{}  1473 ( 0.3\\%)\\textbackslash{}\n",
       "\\textbackslash{}  1385 ( 0.3\\%)\\textbackslash{}\n",
       "\\textbackslash{}  1350 ( 0.2\\%)\\textbackslash{}\n",
       "\\textbackslash{}  1280 ( 0.2\\%)\\textbackslash{}\n",
       "\\textbackslash{}523373 (96.8\\%) & <img style=\"border:none;background-color:transparent;padding:0;max-width:max-content;\" src=\"data:image/png;base64, iVBORw0KGgoAAAANSUhEUgAAAJ0AAAEKBAMAAAD6HEqqAAAAIGNIUk0AAHomAACAhAAA+gAAAIDoAAB1MAAA6mAAADqYAAAXcJy6UTwAAAAPUExURf////3+/aampvDw8P///7GHRIEAAAACdFJOUwAAdpPNOAAAAAFiS0dEAIgFHUgAAAAHdElNRQfpBBgQGygdF/lKAAAAqElEQVR42u3UQRUCUQwEwZUADghIWP/euKAgzOHnpVpAHfu69G/1zPTg8Xg83iovxK31isfj8Xi8hhfixnjF4/F4PN4BXogb4xWPx+PxeAd4IW6MVzwej8fjNbwQt9YrHo/H4/EaXohb6xWPx+PxeA0vxI3xisfj8Xi8A7wQN8YrHo/H4/EO8ELcGK94PB6Px2t4IW6t9w71+nmfOxOPx+Pxsl769+r3BXVSpIzFv4LyAAAAAElFTkSuQmCC\">                         &  \\textbackslash{} \n",
       " \\textbackslash{} \n",
       " \\textbackslash{} \n",
       " \\textbackslash{} \n",
       " \\textbackslash{} \n",
       " \\textbackslash{} \n",
       " \\textbackslash{} \n",
       " \\textbackslash{} \n",
       " \\textbackslash{} \n",
       " \\textbackslash{} \n",
       "IIIIIIIIIIIIIIIIIII                                                                                                                             & 540455\\textbackslash{}\n",
       "(99.7\\%)  & 1454\\textbackslash{}\n",
       "(0.3\\%)   \\\\\n",
       "\t4 & 4 & Quantity\\textbackslash{}\n",
       "{[}numeric{]}               & Mean (sd) : 9.6 (218.1)\\textbackslash{}\n",
       "min < med < max:\\textbackslash{}\n",
       "-80995 < 3 < 80995\\textbackslash{}\n",
       "IQR (CV) : 9 (22.8)                                                                                                                                                                                                                                                          & 722 distinct values                                                                                                                                                                                                      & <img style=\"border:none;background-color:transparent;padding:0;max-width:max-content;\" src=\"data:image/png;base64, iVBORw0KGgoAAAANSUhEUgAAAJgAAABuBAMAAAApJ8cWAAAAIGNIUk0AAHomAACAhAAA+gAAAIDoAAB1MAAA6mAAADqYAAAXcJy6UTwAAAAPUExURf////3+/aampvDw8P///7GHRIEAAAACdFJOUwAAdpPNOAAAAAFiS0dEAIgFHUgAAAAHdElNRQfpBBgQGygdF/lKAAAAVklEQVRo3u3ZQQ3AMAwEQVNoIbgMav7ckiBIZOU5+z4NgYtQp2fbm7PN5hyrqh8Gg8FgMBgMBoPBYDAYDAaDwWAwGAwGg8FgXWxduNewb0LnWF4p1GkAYbAVB6V9eXEAAAAASUVORK5CYII=\">                                                                                                                                     & \\textbackslash{} \\textbackslash{} \\textbackslash{} \\textbackslash{} \\textbackslash{} \\textbackslash{} \\textbackslash{} \\textbackslash{} \\textbackslash{} \\textbackslash{} :\\textbackslash{}\n",
       "\\textbackslash{} \\textbackslash{} \\textbackslash{} \\textbackslash{} \\textbackslash{} \\textbackslash{} \\textbackslash{} \\textbackslash{} \\textbackslash{} \\textbackslash{} :\\textbackslash{}\n",
       "\\textbackslash{} \\textbackslash{} \\textbackslash{} \\textbackslash{} \\textbackslash{} \\textbackslash{} \\textbackslash{} \\textbackslash{} \\textbackslash{} \\textbackslash{} :\\textbackslash{}\n",
       "\\textbackslash{} \\textbackslash{} \\textbackslash{} \\textbackslash{} \\textbackslash{} \\textbackslash{} \\textbackslash{} \\textbackslash{} \\textbackslash{} \\textbackslash{} :\\textbackslash{}\n",
       "\\textbackslash{} \\textbackslash{} \\textbackslash{} \\textbackslash{} \\textbackslash{} \\textbackslash{} \\textbackslash{} \\textbackslash{} \\textbackslash{} \\textbackslash{} :                                 & 541909\\textbackslash{}\n",
       "(100.0\\%) & 0\\textbackslash{}\n",
       "(0.0\\%)      \\\\\n",
       "\t5 & 5 & InvoiceDate\\textbackslash{}\n",
       "{[}POSIXct,\\textbackslash{}\n",
       "POSIXt{]} & min : 2010-12-01 08:26:00\\textbackslash{}\n",
       "med : 2011-07-19 17:17:00\\textbackslash{}\n",
       "max : 2011-12-09 12:50:00\\textbackslash{}\n",
       "range : 1y 0m 8d 4H 24M 0S                                                                                                                                                                                                                                 & 23260 distinct values                                                                                                                                                                                                    & <img style=\"border:none;background-color:transparent;padding:0;max-width:max-content;\" src=\"data:image/png;base64, iVBORw0KGgoAAAANSUhEUgAAAJgAAABuBAMAAAApJ8cWAAAAIGNIUk0AAHomAACAhAAA+gAAAIDoAAB1MAAA6mAAADqYAAAXcJy6UTwAAAAPUExURf////3+/aampvDw8P///7GHRIEAAAACdFJOUwAAdpPNOAAAAAFiS0dEAIgFHUgAAAAHdElNRQfpBBgQGylqEMncAAAAuklEQVRo3u3YUQrDIBBFUbdQd1Czg7r/vaVTOjAGA+n4PgK9D+Yn6GGSSCSWQjJ5rKa2d2RY7/2lwKyppsI2g8DAwMDA/g6zvUSGGQQGdoivMQnmEBgYGNh57LPzVGE2EewGWNxMlrEI/YJ9DgZkmI3zxZrFvKP6HduzWPXThYj5Q7+CNU8ABswnHt/kDNsmwBSb1SXMb1eChcphoZt17KTAwG6FDf+gq9hwDQwMDAwMDAxMjDVJCslkB+HVs3+Sbs/4AAAAAElFTkSuQmCC\"> & \\textbackslash{} \\textbackslash{} \\textbackslash{} \\textbackslash{} \\textbackslash{} \\textbackslash{} \\textbackslash{} \\textbackslash{} \\textbackslash{} \\textbackslash{} \\textbackslash{} \\textbackslash{} \\textbackslash{} \\textbackslash{} \\textbackslash{} \\textbackslash{} \\textbackslash{} \\textbackslash{} :\\textbackslash{}\n",
       "\\textbackslash{} \\textbackslash{} \\textbackslash{} \\textbackslash{} \\textbackslash{} \\textbackslash{} \\textbackslash{} \\textbackslash{} \\textbackslash{} \\textbackslash{} \\textbackslash{} \\textbackslash{} \\textbackslash{} \\textbackslash{} \\textbackslash{} \\textbackslash{} . :\\textbackslash{}\n",
       ". \\textbackslash{} \\textbackslash{} \\textbackslash{} \\textbackslash{} \\textbackslash{} \\textbackslash{} \\textbackslash{} \\textbackslash{} \\textbackslash{} \\textbackslash{} \\textbackslash{} \\textbackslash{} . : :\\textbackslash{}\n",
       ": : : : : : : : : :\\textbackslash{}\n",
       ": : : : : : : : : : & 541909\\textbackslash{}\n",
       "(100.0\\%) & 0\\textbackslash{}\n",
       "(0.0\\%)      \\\\\n",
       "\t6 & 6 & UnitPrice\\textbackslash{}\n",
       "{[}numeric{]}              & Mean (sd) : 4.6 (96.8)\\textbackslash{}\n",
       "min < med < max:\\textbackslash{}\n",
       "-11062.1 < 2.1 < 38970\\textbackslash{}\n",
       "IQR (CV) : 2.9 (21)                                                                                                                                                                                                                                                       & 1630 distinct values                                                                                                                                                                                                     & <img style=\"border:none;background-color:transparent;padding:0;max-width:max-content;\" src=\"data:image/png;base64, iVBORw0KGgoAAAANSUhEUgAAAJgAAABuBAMAAAApJ8cWAAAAIGNIUk0AAHomAACAhAAA+gAAAIDoAAB1MAAA6mAAADqYAAAXcJy6UTwAAAAPUExURf////3+/aampvDw8P///7GHRIEAAAACdFJOUwAAdpPNOAAAAAFiS0dEAIgFHUgAAAAHdElNRQfpBBgQGyrzGZhmAAAASUlEQVRo3u3MMQ0AIAwAsFmYBIYE/HvjJ+GAcJFWQCO4kYuqanlsk/UxZDKZTCaTyWQymUwmk8lkMplMJpPJZDKZTPZJVk8ENyYr+gcEglnZiQAAAABJRU5ErkJggg==\">                                                                                                                                                     & \\textbackslash{} \\textbackslash{} \\textbackslash{} \\textbackslash{} :\\textbackslash{}\n",
       "\\textbackslash{} \\textbackslash{} \\textbackslash{} \\textbackslash{} :\\textbackslash{}\n",
       "\\textbackslash{} \\textbackslash{} \\textbackslash{} \\textbackslash{} :\\textbackslash{}\n",
       "\\textbackslash{} \\textbackslash{} \\textbackslash{} \\textbackslash{} :\\textbackslash{}\n",
       "\\textbackslash{} \\textbackslash{} \\textbackslash{} \\textbackslash{} :                                                                                                                           & 541909\\textbackslash{}\n",
       "(100.0\\%) & 0\\textbackslash{}\n",
       "(0.0\\%)      \\\\\n",
       "\t7 & 7 & CustomerID\\textbackslash{}\n",
       "{[}numeric{]}             & Mean (sd) : 15287.7 (1713.6)\\textbackslash{}\n",
       "min < med < max:\\textbackslash{}\n",
       "12346 < 15152 < 18287\\textbackslash{}\n",
       "IQR (CV) : 2838 (0.1)                                                                                                                                                                                                                                                & 4372 distinct values                                                                                                                                                                                                     & <img style=\"border:none;background-color:transparent;padding:0;max-width:max-content;\" src=\"data:image/png;base64, iVBORw0KGgoAAAANSUhEUgAAAJgAAABuBAMAAAApJ8cWAAAAIGNIUk0AAHomAACAhAAA+gAAAIDoAAB1MAAA6mAAADqYAAAXcJy6UTwAAAAPUExURf////3+/aampvDw8P///7GHRIEAAAACdFJOUwAAdpPNOAAAAAFiS0dEAIgFHUgAAAAHdElNRQfpBBgQGyuEHqjwAAAArUlEQVRo3u3WUQ6DIBBFUbagOxB3UPa/tyrz8awttsIkxnLflyhzQiYkYwikJkM5cc00/JLv2JyWgPWBjZur044lfb8nZu3wwvI+MDCwq7FxNyIPsLwzHmLptW6DqdiSXz4qMRVfiKlxDpga/oapcQ6Yjgd2CtP8s8cmLH1ag3WDRV2hdmze1YGBgYGBgXWO2Zx1wmwN9odY+X+sAisXg4GBgYGBgd0Hiy4JpCZPghJICQ6hv3wAAAAASUVORK5CYII=\">                 & . \\textbackslash{} \\textbackslash{} \\textbackslash{} \\textbackslash{} : . \\textbackslash{} \\textbackslash{} \\textbackslash{} \\textbackslash{} \\textbackslash{} \\textbackslash{} \\textbackslash{} \\textbackslash{} .\\textbackslash{}\n",
       ": : : : : : . : : :\\textbackslash{}\n",
       ": : : : : : : : : :\\textbackslash{}\n",
       ": : : : : : : : : :\\textbackslash{}\n",
       ": : : : : : : : : :                                                                     & 406829\\textbackslash{}\n",
       "(75.1\\%)  & 135080\\textbackslash{}\n",
       "(24.9\\%)\\\\\n",
       "\t8 & 8 & Country\\textbackslash{}\n",
       "{[}character{]}              & 1\\textbackslash{}. United Kingdom\\textbackslash{}\n",
       "2\\textbackslash{}. Germany\\textbackslash{}\n",
       "3\\textbackslash{}. France\\textbackslash{}\n",
       "4\\textbackslash{}. EIRE\\textbackslash{}\n",
       "5\\textbackslash{}. Spain\\textbackslash{}\n",
       "6\\textbackslash{}. Netherlands\\textbackslash{}\n",
       "7\\textbackslash{}. Belgium\\textbackslash{}\n",
       "8\\textbackslash{}. Switzerland\\textbackslash{}\n",
       "9\\textbackslash{}. Portugal\\textbackslash{}\n",
       "10\\textbackslash{}. Australia\\textbackslash{}\n",
       "{[} 28 others {]}                                                                                                                                                        & \\textbackslash{}495478 (91.4\\%)\\textbackslash{}\n",
       "\\textbackslash{}  9495 ( 1.8\\%)\\textbackslash{}\n",
       "\\textbackslash{}  8557 ( 1.6\\%)\\textbackslash{}\n",
       "\\textbackslash{}  8196 ( 1.5\\%)\\textbackslash{}\n",
       "\\textbackslash{}  2533 ( 0.5\\%)\\textbackslash{}\n",
       "\\textbackslash{}  2371 ( 0.4\\%)\\textbackslash{}\n",
       "\\textbackslash{}  2069 ( 0.4\\%)\\textbackslash{}\n",
       "\\textbackslash{}  2002 ( 0.4\\%)\\textbackslash{}\n",
       "\\textbackslash{}  1519 ( 0.3\\%)\\textbackslash{}\n",
       "\\textbackslash{}  1259 ( 0.2\\%)\\textbackslash{}\n",
       "\\textbackslash{}  8430 ( 1.6\\%) & <img style=\"border:none;background-color:transparent;padding:0;max-width:max-content;\" src=\"data:image/png;base64, iVBORw0KGgoAAAANSUhEUgAAAJUAAAEKBAMAAADpywpeAAAAIGNIUk0AAHomAACAhAAA+gAAAIDoAAB1MAAA6mAAADqYAAAXcJy6UTwAAAAPUExURf////3+/aampvDw8P///7GHRIEAAAACdFJOUwAAdpPNOAAAAAFiS0dEAIgFHUgAAAAHdElNRQfpBBgQGyuEHqjwAAAArUlEQVR42u3bsQ3CAAxE0YwAG+BkBPbfjQaJFitXWPL7A7zSV/k41O0M9Ppa1/t+LBaLxfpZyRv9DPRYZJ2Vsy4Wi8ViRa3kjb4vzbdsGovFYu2w7GPPso8sFou1w7KPPatYLBaLtcIKUKusYrFYLNYKK0CtsorFYrFYK6wANd4qFovFYrGaVoAabxWLxWKxWE0rQI23isVisVgrrAC1yvKTwWKxWHOt5I3W/30ANyxbqLpepp8AAAAASUVORK5CYII=\">                 & IIIIIIIIIIIIIIIIII \\textbackslash{} \n",
       " \\textbackslash{} \n",
       " \\textbackslash{} \n",
       " \\textbackslash{} \n",
       " \\textbackslash{} \n",
       " \\textbackslash{} \n",
       " \\textbackslash{} \n",
       " \\textbackslash{} \n",
       " \\textbackslash{} \n",
       " \\textbackslash{} \n",
       "                                                                                                                              & 541909\\textbackslash{}\n",
       "(100.0\\%) & 0\\textbackslash{}\n",
       "(0.0\\%)      \\\\\n",
       "\\end{tabular}\n"
      ],
      "text/markdown": [
       "\n",
       "A summarytools: 8 × 8\n",
       "\n",
       "| <!--/--> | No &lt;dbl&gt; | Variable &lt;chr&gt; | Stats / Values &lt;chr&gt; | Freqs (% of Valid) &lt;chr&gt; | Graph &lt;chr&gt; | text.graph &lt;chr&gt; | Valid &lt;chr&gt; | Missing &lt;chr&gt; |\n",
       "|---|---|---|---|---|---|---|---|---|\n",
       "| 1 | 1 | InvoiceNo\\\n",
       "[character]            | 1\\. 573585\\\n",
       "2\\. 581219\\\n",
       "3\\. 581492\\\n",
       "4\\. 580729\\\n",
       "5\\. 558475\\\n",
       "6\\. 579777\\\n",
       "7\\. 581217\\\n",
       "8\\. 537434\\\n",
       "9\\. 580730\\\n",
       "10\\. 538071\\\n",
       "[ 25890 others ]                                                                                                                                                                           | \\  1114 ( 0.2%)\\\n",
       "\\   749 ( 0.1%)\\\n",
       "\\   731 ( 0.1%)\\\n",
       "\\   721 ( 0.1%)\\\n",
       "\\   705 ( 0.1%)\\\n",
       "\\   687 ( 0.1%)\\\n",
       "\\   676 ( 0.1%)\\\n",
       "\\   675 ( 0.1%)\\\n",
       "\\   662 ( 0.1%)\\\n",
       "\\   652 ( 0.1%)\\\n",
       "\\534537 (98.6%) | &lt;img style=\"border:none;background-color:transparent;padding:0;max-width:max-content;\" src=\"data:image/png;base64, iVBORw0KGgoAAAANSUhEUgAAAKAAAAEKBAMAAABnEUMiAAAAIGNIUk0AAHomAACAhAAA+gAAAIDoAAB1MAAA6mAAADqYAAAXcJy6UTwAAAAPUExURf////3+/aampvDw8P///7GHRIEAAAACdFJOUwAAdpPNOAAAAAFiS0dEAIgFHUgAAAAHdElNRQfpBBgQGyeNqOTbAAAApklEQVR42u3VQRECQRAEwbOAhAYH4N/bfXBAE7ETkyUgv3VdapRHKyAQCARuB2veYjBAIBAIBJbAmjcHDBAIBAKBp4I1bw4YIBAIBAJPBWveHDBAIBAIBJbAmrcYDBAIBAKBJbDmLQYDBAKBQGAJrHlzwACBQCAQeCpY8+aAAQKBQCDwVLDmzQEDBAKBQGAJrHmLwWetL/j6lHoDgUAg8L9gfQH6rRvOh7pqZ49ItAAAAABJRU5ErkJggg==\"&gt;                         |  \\ \n",
       " \\ \n",
       " \\ \n",
       " \\ \n",
       " \\ \n",
       " \\ \n",
       " \\ \n",
       " \\ \n",
       " \\ \n",
       " \\ \n",
       "IIIIIIIIIIIIIIIIIII                                                                                                                             | 541909\\\n",
       "(100.0%) | 0\\\n",
       "(0.0%)       |\n",
       "| 2 | 2 | StockCode\\\n",
       "[character]            | 1\\. 85123A\\\n",
       "2\\. 22423\\\n",
       "3\\. 85099B\\\n",
       "4\\. 47566\\\n",
       "5\\. 20725\\\n",
       "6\\. 84879\\\n",
       "7\\. 22720\\\n",
       "8\\. 22197\\\n",
       "9\\. 21212\\\n",
       "10\\. 20727\\\n",
       "[ 4060 others ]                                                                                                                                                                                    | \\  2313 ( 0.4%)\\\n",
       "\\  2203 ( 0.4%)\\\n",
       "\\  2159 ( 0.4%)\\\n",
       "\\  1727 ( 0.3%)\\\n",
       "\\  1639 ( 0.3%)\\\n",
       "\\  1502 ( 0.3%)\\\n",
       "\\  1477 ( 0.3%)\\\n",
       "\\  1476 ( 0.3%)\\\n",
       "\\  1385 ( 0.3%)\\\n",
       "\\  1350 ( 0.2%)\\\n",
       "\\524678 (96.8%) | &lt;img style=\"border:none;background-color:transparent;padding:0;max-width:max-content;\" src=\"data:image/png;base64, iVBORw0KGgoAAAANSUhEUgAAAJ0AAAEKBAMAAAD6HEqqAAAAIGNIUk0AAHomAACAhAAA+gAAAIDoAAB1MAAA6mAAADqYAAAXcJy6UTwAAAAPUExURf////3+/aampvDw8P///7GHRIEAAAACdFJOUwAAdpPNOAAAAAFiS0dEAIgFHUgAAAAHdElNRQfpBBgQGyeNqOTbAAAAqElEQVR42u3UQRUCUQwEwZUADghIWP/euKAgzOHnpVpAHfu69G/1zPTg8Xg83iovxK31isfj8Xi8hhfixnjF4/F4PN4BXogb4xWPx+PxeAd4IW6MVzwej8fjNbwQt9YrHo/H4/EaXohb6xWPx+PxeA0vxI3xisfj8Xi8A7wQN8YrHo/H4/EO8ELcGK94PB6Px2t4IW6t9w71+nmfOxOPx+Pxsl769+r3BXVSpIzFv4LyAAAAAElFTkSuQmCC\"&gt;                         |  \\ \n",
       " \\ \n",
       " \\ \n",
       " \\ \n",
       " \\ \n",
       " \\ \n",
       " \\ \n",
       " \\ \n",
       " \\ \n",
       " \\ \n",
       "IIIIIIIIIIIIIIIIIII                                                                                                                             | 541909\\\n",
       "(100.0%) | 0\\\n",
       "(0.0%)       |\n",
       "| 3 | 3 | Description\\\n",
       "[character]          | 1\\. WHITE HANGING HEART T-LIG\\\n",
       "2\\. REGENCY CAKESTAND 3 TIER\\\n",
       "3\\. JUMBO BAG RED RETROSPOT\\\n",
       "4\\. PARTY BUNTING\\\n",
       "5\\. LUNCH BAG RED RETROSPOT\\\n",
       "6\\. ASSORTED COLOUR BIRD ORNA\\\n",
       "7\\. SET OF 3 CAKE TINS PANTRY\\\n",
       "8\\. PACK OF 72 RETROSPOT CAKE\\\n",
       "9\\. LUNCH BAG  BLACK SKULL.\\\n",
       "10\\. NATURAL SLATE HEART CHALK\\\n",
       "[ 4201 others ] | \\  2369 ( 0.4%)\\\n",
       "\\  2200 ( 0.4%)\\\n",
       "\\  2159 ( 0.4%)\\\n",
       "\\  1727 ( 0.3%)\\\n",
       "\\  1638 ( 0.3%)\\\n",
       "\\  1501 ( 0.3%)\\\n",
       "\\  1473 ( 0.3%)\\\n",
       "\\  1385 ( 0.3%)\\\n",
       "\\  1350 ( 0.2%)\\\n",
       "\\  1280 ( 0.2%)\\\n",
       "\\523373 (96.8%) | &lt;img style=\"border:none;background-color:transparent;padding:0;max-width:max-content;\" src=\"data:image/png;base64, iVBORw0KGgoAAAANSUhEUgAAAJ0AAAEKBAMAAAD6HEqqAAAAIGNIUk0AAHomAACAhAAA+gAAAIDoAAB1MAAA6mAAADqYAAAXcJy6UTwAAAAPUExURf////3+/aampvDw8P///7GHRIEAAAACdFJOUwAAdpPNOAAAAAFiS0dEAIgFHUgAAAAHdElNRQfpBBgQGygdF/lKAAAAqElEQVR42u3UQRUCUQwEwZUADghIWP/euKAgzOHnpVpAHfu69G/1zPTg8Xg83iovxK31isfj8Xi8hhfixnjF4/F4PN4BXogb4xWPx+PxeAd4IW6MVzwej8fjNbwQt9YrHo/H4/EaXohb6xWPx+PxeA0vxI3xisfj8Xi8A7wQN8YrHo/H4/EO8ELcGK94PB6Px2t4IW6t9w71+nmfOxOPx+Pxsl769+r3BXVSpIzFv4LyAAAAAElFTkSuQmCC\"&gt;                         |  \\ \n",
       " \\ \n",
       " \\ \n",
       " \\ \n",
       " \\ \n",
       " \\ \n",
       " \\ \n",
       " \\ \n",
       " \\ \n",
       " \\ \n",
       "IIIIIIIIIIIIIIIIIII                                                                                                                             | 540455\\\n",
       "(99.7%)  | 1454\\\n",
       "(0.3%)    |\n",
       "| 4 | 4 | Quantity\\\n",
       "[numeric]               | Mean (sd) : 9.6 (218.1)\\\n",
       "min &lt; med &lt; max:\\\n",
       "-80995 &lt; 3 &lt; 80995\\\n",
       "IQR (CV) : 9 (22.8)                                                                                                                                                                                                                                                          | 722 distinct values                                                                                                                                                                                                      | &lt;img style=\"border:none;background-color:transparent;padding:0;max-width:max-content;\" src=\"data:image/png;base64, iVBORw0KGgoAAAANSUhEUgAAAJgAAABuBAMAAAApJ8cWAAAAIGNIUk0AAHomAACAhAAA+gAAAIDoAAB1MAAA6mAAADqYAAAXcJy6UTwAAAAPUExURf////3+/aampvDw8P///7GHRIEAAAACdFJOUwAAdpPNOAAAAAFiS0dEAIgFHUgAAAAHdElNRQfpBBgQGygdF/lKAAAAVklEQVRo3u3ZQQ3AMAwEQVNoIbgMav7ckiBIZOU5+z4NgYtQp2fbm7PN5hyrqh8Gg8FgMBgMBoPBYDAYDAaDwWAwGAwGg8FgXWxduNewb0LnWF4p1GkAYbAVB6V9eXEAAAAASUVORK5CYII=\"&gt;                                                                                                                                     | \\ \\ \\ \\ \\ \\ \\ \\ \\ \\ :\\\n",
       "\\ \\ \\ \\ \\ \\ \\ \\ \\ \\ :\\\n",
       "\\ \\ \\ \\ \\ \\ \\ \\ \\ \\ :\\\n",
       "\\ \\ \\ \\ \\ \\ \\ \\ \\ \\ :\\\n",
       "\\ \\ \\ \\ \\ \\ \\ \\ \\ \\ :                                 | 541909\\\n",
       "(100.0%) | 0\\\n",
       "(0.0%)       |\n",
       "| 5 | 5 | InvoiceDate\\\n",
       "[POSIXct,\\\n",
       "POSIXt] | min : 2010-12-01 08:26:00\\\n",
       "med : 2011-07-19 17:17:00\\\n",
       "max : 2011-12-09 12:50:00\\\n",
       "range : 1y 0m 8d 4H 24M 0S                                                                                                                                                                                                                                 | 23260 distinct values                                                                                                                                                                                                    | &lt;img style=\"border:none;background-color:transparent;padding:0;max-width:max-content;\" src=\"data:image/png;base64, iVBORw0KGgoAAAANSUhEUgAAAJgAAABuBAMAAAApJ8cWAAAAIGNIUk0AAHomAACAhAAA+gAAAIDoAAB1MAAA6mAAADqYAAAXcJy6UTwAAAAPUExURf////3+/aampvDw8P///7GHRIEAAAACdFJOUwAAdpPNOAAAAAFiS0dEAIgFHUgAAAAHdElNRQfpBBgQGylqEMncAAAAuklEQVRo3u3YUQrDIBBFUbdQd1Czg7r/vaVTOjAGA+n4PgK9D+Yn6GGSSCSWQjJ5rKa2d2RY7/2lwKyppsI2g8DAwMDA/g6zvUSGGQQGdoivMQnmEBgYGNh57LPzVGE2EewGWNxMlrEI/YJ9DgZkmI3zxZrFvKP6HduzWPXThYj5Q7+CNU8ABswnHt/kDNsmwBSb1SXMb1eChcphoZt17KTAwG6FDf+gq9hwDQwMDAwMDAxMjDVJCslkB+HVs3+Sbs/4AAAAAElFTkSuQmCC\"&gt; | \\ \\ \\ \\ \\ \\ \\ \\ \\ \\ \\ \\ \\ \\ \\ \\ \\ \\ :\\\n",
       "\\ \\ \\ \\ \\ \\ \\ \\ \\ \\ \\ \\ \\ \\ \\ \\ . :\\\n",
       ". \\ \\ \\ \\ \\ \\ \\ \\ \\ \\ \\ \\ . : :\\\n",
       ": : : : : : : : : :\\\n",
       ": : : : : : : : : : | 541909\\\n",
       "(100.0%) | 0\\\n",
       "(0.0%)       |\n",
       "| 6 | 6 | UnitPrice\\\n",
       "[numeric]              | Mean (sd) : 4.6 (96.8)\\\n",
       "min &lt; med &lt; max:\\\n",
       "-11062.1 &lt; 2.1 &lt; 38970\\\n",
       "IQR (CV) : 2.9 (21)                                                                                                                                                                                                                                                       | 1630 distinct values                                                                                                                                                                                                     | &lt;img style=\"border:none;background-color:transparent;padding:0;max-width:max-content;\" src=\"data:image/png;base64, iVBORw0KGgoAAAANSUhEUgAAAJgAAABuBAMAAAApJ8cWAAAAIGNIUk0AAHomAACAhAAA+gAAAIDoAAB1MAAA6mAAADqYAAAXcJy6UTwAAAAPUExURf////3+/aampvDw8P///7GHRIEAAAACdFJOUwAAdpPNOAAAAAFiS0dEAIgFHUgAAAAHdElNRQfpBBgQGyrzGZhmAAAASUlEQVRo3u3MMQ0AIAwAsFmYBIYE/HvjJ+GAcJFWQCO4kYuqanlsk/UxZDKZTCaTyWQymUwmk8lkMplMJpPJZDKZTPZJVk8ENyYr+gcEglnZiQAAAABJRU5ErkJggg==\"&gt;                                                                                                                                                     | \\ \\ \\ \\ :\\\n",
       "\\ \\ \\ \\ :\\\n",
       "\\ \\ \\ \\ :\\\n",
       "\\ \\ \\ \\ :\\\n",
       "\\ \\ \\ \\ :                                                                                                                           | 541909\\\n",
       "(100.0%) | 0\\\n",
       "(0.0%)       |\n",
       "| 7 | 7 | CustomerID\\\n",
       "[numeric]             | Mean (sd) : 15287.7 (1713.6)\\\n",
       "min &lt; med &lt; max:\\\n",
       "12346 &lt; 15152 &lt; 18287\\\n",
       "IQR (CV) : 2838 (0.1)                                                                                                                                                                                                                                                | 4372 distinct values                                                                                                                                                                                                     | &lt;img style=\"border:none;background-color:transparent;padding:0;max-width:max-content;\" src=\"data:image/png;base64, iVBORw0KGgoAAAANSUhEUgAAAJgAAABuBAMAAAApJ8cWAAAAIGNIUk0AAHomAACAhAAA+gAAAIDoAAB1MAAA6mAAADqYAAAXcJy6UTwAAAAPUExURf////3+/aampvDw8P///7GHRIEAAAACdFJOUwAAdpPNOAAAAAFiS0dEAIgFHUgAAAAHdElNRQfpBBgQGyuEHqjwAAAArUlEQVRo3u3WUQ6DIBBFUbagOxB3UPa/tyrz8awttsIkxnLflyhzQiYkYwikJkM5cc00/JLv2JyWgPWBjZur044lfb8nZu3wwvI+MDCwq7FxNyIPsLwzHmLptW6DqdiSXz4qMRVfiKlxDpga/oapcQ6Yjgd2CtP8s8cmLH1ag3WDRV2hdmze1YGBgYGBgXWO2Zx1wmwN9odY+X+sAisXg4GBgYGBgd0Hiy4JpCZPghJICQ6hv3wAAAAASUVORK5CYII=\"&gt;                 | . \\ \\ \\ \\ : . \\ \\ \\ \\ \\ \\ \\ \\ .\\\n",
       ": : : : : : . : : :\\\n",
       ": : : : : : : : : :\\\n",
       ": : : : : : : : : :\\\n",
       ": : : : : : : : : :                                                                     | 406829\\\n",
       "(75.1%)  | 135080\\\n",
       "(24.9%) |\n",
       "| 8 | 8 | Country\\\n",
       "[character]              | 1\\. United Kingdom\\\n",
       "2\\. Germany\\\n",
       "3\\. France\\\n",
       "4\\. EIRE\\\n",
       "5\\. Spain\\\n",
       "6\\. Netherlands\\\n",
       "7\\. Belgium\\\n",
       "8\\. Switzerland\\\n",
       "9\\. Portugal\\\n",
       "10\\. Australia\\\n",
       "[ 28 others ]                                                                                                                                                        | \\495478 (91.4%)\\\n",
       "\\  9495 ( 1.8%)\\\n",
       "\\  8557 ( 1.6%)\\\n",
       "\\  8196 ( 1.5%)\\\n",
       "\\  2533 ( 0.5%)\\\n",
       "\\  2371 ( 0.4%)\\\n",
       "\\  2069 ( 0.4%)\\\n",
       "\\  2002 ( 0.4%)\\\n",
       "\\  1519 ( 0.3%)\\\n",
       "\\  1259 ( 0.2%)\\\n",
       "\\  8430 ( 1.6%) | &lt;img style=\"border:none;background-color:transparent;padding:0;max-width:max-content;\" src=\"data:image/png;base64, iVBORw0KGgoAAAANSUhEUgAAAJUAAAEKBAMAAADpywpeAAAAIGNIUk0AAHomAACAhAAA+gAAAIDoAAB1MAAA6mAAADqYAAAXcJy6UTwAAAAPUExURf////3+/aampvDw8P///7GHRIEAAAACdFJOUwAAdpPNOAAAAAFiS0dEAIgFHUgAAAAHdElNRQfpBBgQGyuEHqjwAAAArUlEQVR42u3bsQ3CAAxE0YwAG+BkBPbfjQaJFitXWPL7A7zSV/k41O0M9Ppa1/t+LBaLxfpZyRv9DPRYZJ2Vsy4Wi8ViRa3kjb4vzbdsGovFYu2w7GPPso8sFou1w7KPPatYLBaLtcIKUKusYrFYLNYKK0CtsorFYrFYK6wANd4qFovFYrGaVoAabxWLxWKxWE0rQI23isVisVgrrAC1yvKTwWKxWHOt5I3W/30ANyxbqLpepp8AAAAASUVORK5CYII=\"&gt;                 | IIIIIIIIIIIIIIIIII \\ \n",
       " \\ \n",
       " \\ \n",
       " \\ \n",
       " \\ \n",
       " \\ \n",
       " \\ \n",
       " \\ \n",
       " \\ \n",
       " \\ \n",
       "                                                                                                                              | 541909\\\n",
       "(100.0%) | 0\\\n",
       "(0.0%)       |\n",
       "\n"
      ],
      "text/plain": [
       "  No Variable                           \n",
       "1 1  InvoiceNo\\\\\\n[character]           \n",
       "2 2  StockCode\\\\\\n[character]           \n",
       "3 3  Description\\\\\\n[character]         \n",
       "4 4  Quantity\\\\\\n[numeric]              \n",
       "5 5  InvoiceDate\\\\\\n[POSIXct,\\\\\\nPOSIXt]\n",
       "6 6  UnitPrice\\\\\\n[numeric]             \n",
       "7 7  CustomerID\\\\\\n[numeric]            \n",
       "8 8  Country\\\\\\n[character]             \n",
       "  Stats / Values                                                                                                                                                                                                                                                                                                                                   \n",
       "1 1\\\\. 573585\\\\\\n2\\\\. 581219\\\\\\n3\\\\. 581492\\\\\\n4\\\\. 580729\\\\\\n5\\\\. 558475\\\\\\n6\\\\. 579777\\\\\\n7\\\\. 581217\\\\\\n8\\\\. 537434\\\\\\n9\\\\. 580730\\\\\\n10\\\\. 538071\\\\\\n[ 25890 others ]                                                                                                                                                                          \n",
       "2 1\\\\. 85123A\\\\\\n2\\\\. 22423\\\\\\n3\\\\. 85099B\\\\\\n4\\\\. 47566\\\\\\n5\\\\. 20725\\\\\\n6\\\\. 84879\\\\\\n7\\\\. 22720\\\\\\n8\\\\. 22197\\\\\\n9\\\\. 21212\\\\\\n10\\\\. 20727\\\\\\n[ 4060 others ]                                                                                                                                                                                   \n",
       "3 1\\\\. WHITE HANGING HEART T-LIG\\\\\\n2\\\\. REGENCY CAKESTAND 3 TIER\\\\\\n3\\\\. JUMBO BAG RED RETROSPOT\\\\\\n4\\\\. PARTY BUNTING\\\\\\n5\\\\. LUNCH BAG RED RETROSPOT\\\\\\n6\\\\. ASSORTED COLOUR BIRD ORNA\\\\\\n7\\\\. SET OF 3 CAKE TINS PANTRY\\\\\\n8\\\\. PACK OF 72 RETROSPOT CAKE\\\\\\n9\\\\. LUNCH BAG  BLACK SKULL.\\\\\\n10\\\\. NATURAL SLATE HEART CHALK\\\\\\n[ 4201 others ]\n",
       "4 Mean (sd) : 9.6 (218.1)\\\\\\nmin < med < max:\\\\\\n-80995 < 3 < 80995\\\\\\nIQR (CV) : 9 (22.8)                                                                                                                                                                                                                                                         \n",
       "5 min : 2010-12-01 08:26:00\\\\\\nmed : 2011-07-19 17:17:00\\\\\\nmax : 2011-12-09 12:50:00\\\\\\nrange : 1y 0m 8d 4H 24M 0S                                                                                                                                                                                                                                \n",
       "6 Mean (sd) : 4.6 (96.8)\\\\\\nmin < med < max:\\\\\\n-11062.1 < 2.1 < 38970\\\\\\nIQR (CV) : 2.9 (21)                                                                                                                                                                                                                                                      \n",
       "7 Mean (sd) : 15287.7 (1713.6)\\\\\\nmin < med < max:\\\\\\n12346 < 15152 < 18287\\\\\\nIQR (CV) : 2838 (0.1)                                                                                                                                                                                                                                               \n",
       "8 1\\\\. United Kingdom\\\\\\n2\\\\. Germany\\\\\\n3\\\\. France\\\\\\n4\\\\. EIRE\\\\\\n5\\\\. Spain\\\\\\n6\\\\. Netherlands\\\\\\n7\\\\. Belgium\\\\\\n8\\\\. Switzerland\\\\\\n9\\\\. Portugal\\\\\\n10\\\\. Australia\\\\\\n[ 28 others ]                                                                                                                                                       \n",
       "  Freqs (% of Valid)                                                                                                                                                                                                      \n",
       "1 \\\\  1114 ( 0.2%)\\\\\\n\\\\   749 ( 0.1%)\\\\\\n\\\\   731 ( 0.1%)\\\\\\n\\\\   721 ( 0.1%)\\\\\\n\\\\   705 ( 0.1%)\\\\\\n\\\\   687 ( 0.1%)\\\\\\n\\\\   676 ( 0.1%)\\\\\\n\\\\   675 ( 0.1%)\\\\\\n\\\\   662 ( 0.1%)\\\\\\n\\\\   652 ( 0.1%)\\\\\\n\\\\534537 (98.6%)\n",
       "2 \\\\  2313 ( 0.4%)\\\\\\n\\\\  2203 ( 0.4%)\\\\\\n\\\\  2159 ( 0.4%)\\\\\\n\\\\  1727 ( 0.3%)\\\\\\n\\\\  1639 ( 0.3%)\\\\\\n\\\\  1502 ( 0.3%)\\\\\\n\\\\  1477 ( 0.3%)\\\\\\n\\\\  1476 ( 0.3%)\\\\\\n\\\\  1385 ( 0.3%)\\\\\\n\\\\  1350 ( 0.2%)\\\\\\n\\\\524678 (96.8%)\n",
       "3 \\\\  2369 ( 0.4%)\\\\\\n\\\\  2200 ( 0.4%)\\\\\\n\\\\  2159 ( 0.4%)\\\\\\n\\\\  1727 ( 0.3%)\\\\\\n\\\\  1638 ( 0.3%)\\\\\\n\\\\  1501 ( 0.3%)\\\\\\n\\\\  1473 ( 0.3%)\\\\\\n\\\\  1385 ( 0.3%)\\\\\\n\\\\  1350 ( 0.2%)\\\\\\n\\\\  1280 ( 0.2%)\\\\\\n\\\\523373 (96.8%)\n",
       "4 722 distinct values                                                                                                                                                                                                     \n",
       "5 23260 distinct values                                                                                                                                                                                                   \n",
       "6 1630 distinct values                                                                                                                                                                                                    \n",
       "7 4372 distinct values                                                                                                                                                                                                    \n",
       "8 \\\\495478 (91.4%)\\\\\\n\\\\  9495 ( 1.8%)\\\\\\n\\\\  8557 ( 1.6%)\\\\\\n\\\\  8196 ( 1.5%)\\\\\\n\\\\  2533 ( 0.5%)\\\\\\n\\\\  2371 ( 0.4%)\\\\\\n\\\\  2069 ( 0.4%)\\\\\\n\\\\  2002 ( 0.4%)\\\\\\n\\\\  1519 ( 0.3%)\\\\\\n\\\\  1259 ( 0.2%)\\\\\\n\\\\  8430 ( 1.6%)\n",
       "  Graph                                                                                                                                                                                                                                                                                                                                                                                                                                                                                                                                                                                                                \n",
       "1 <img style=\"border:none;background-color:transparent;padding:0;max-width:max-content;\" src=\"data:image/png;base64, iVBORw0KGgoAAAANSUhEUgAAAKAAAAEKBAMAAABnEUMiAAAAIGNIUk0AAHomAACAhAAA+gAAAIDoAAB1MAAA6mAAADqYAAAXcJy6UTwAAAAPUExURf////3+/aampvDw8P///7GHRIEAAAACdFJOUwAAdpPNOAAAAAFiS0dEAIgFHUgAAAAHdElNRQfpBBgQGyeNqOTbAAAApklEQVR42u3VQRECQRAEwbOAhAYH4N/bfXBAE7ETkyUgv3VdapRHKyAQCARuB2veYjBAIBAIBJbAmjcHDBAIBAKBp4I1bw4YIBAIBAJPBWveHDBAIBAIBJbAmrcYDBAIBAKBJbDmLQYDBAKBQGAJrHlzwACBQCAQeCpY8+aAAQKBQCDwVLDmzQEDBAKBQGAJrHmLwWetL/j6lHoDgUAg8L9gfQH6rRvOh7pqZ49ItAAAAABJRU5ErkJggg==\">                        \n",
       "2 <img style=\"border:none;background-color:transparent;padding:0;max-width:max-content;\" src=\"data:image/png;base64, iVBORw0KGgoAAAANSUhEUgAAAJ0AAAEKBAMAAAD6HEqqAAAAIGNIUk0AAHomAACAhAAA+gAAAIDoAAB1MAAA6mAAADqYAAAXcJy6UTwAAAAPUExURf////3+/aampvDw8P///7GHRIEAAAACdFJOUwAAdpPNOAAAAAFiS0dEAIgFHUgAAAAHdElNRQfpBBgQGyeNqOTbAAAAqElEQVR42u3UQRUCUQwEwZUADghIWP/euKAgzOHnpVpAHfu69G/1zPTg8Xg83iovxK31isfj8Xi8hhfixnjF4/F4PN4BXogb4xWPx+PxeAd4IW6MVzwej8fjNbwQt9YrHo/H4/EaXohb6xWPx+PxeA0vxI3xisfj8Xi8A7wQN8YrHo/H4/EO8ELcGK94PB6Px2t4IW6t9w71+nmfOxOPx+Pxsl769+r3BXVSpIzFv4LyAAAAAElFTkSuQmCC\">                        \n",
       "3 <img style=\"border:none;background-color:transparent;padding:0;max-width:max-content;\" src=\"data:image/png;base64, iVBORw0KGgoAAAANSUhEUgAAAJ0AAAEKBAMAAAD6HEqqAAAAIGNIUk0AAHomAACAhAAA+gAAAIDoAAB1MAAA6mAAADqYAAAXcJy6UTwAAAAPUExURf////3+/aampvDw8P///7GHRIEAAAACdFJOUwAAdpPNOAAAAAFiS0dEAIgFHUgAAAAHdElNRQfpBBgQGygdF/lKAAAAqElEQVR42u3UQRUCUQwEwZUADghIWP/euKAgzOHnpVpAHfu69G/1zPTg8Xg83iovxK31isfj8Xi8hhfixnjF4/F4PN4BXogb4xWPx+PxeAd4IW6MVzwej8fjNbwQt9YrHo/H4/EaXohb6xWPx+PxeA0vxI3xisfj8Xi8A7wQN8YrHo/H4/EO8ELcGK94PB6Px2t4IW6t9w71+nmfOxOPx+Pxsl769+r3BXVSpIzFv4LyAAAAAElFTkSuQmCC\">                        \n",
       "4 <img style=\"border:none;background-color:transparent;padding:0;max-width:max-content;\" src=\"data:image/png;base64, iVBORw0KGgoAAAANSUhEUgAAAJgAAABuBAMAAAApJ8cWAAAAIGNIUk0AAHomAACAhAAA+gAAAIDoAAB1MAAA6mAAADqYAAAXcJy6UTwAAAAPUExURf////3+/aampvDw8P///7GHRIEAAAACdFJOUwAAdpPNOAAAAAFiS0dEAIgFHUgAAAAHdElNRQfpBBgQGygdF/lKAAAAVklEQVRo3u3ZQQ3AMAwEQVNoIbgMav7ckiBIZOU5+z4NgYtQp2fbm7PN5hyrqh8Gg8FgMBgMBoPBYDAYDAaDwWAwGAwGg8FgXWxduNewb0LnWF4p1GkAYbAVB6V9eXEAAAAASUVORK5CYII=\">                                                                                                                                    \n",
       "5 <img style=\"border:none;background-color:transparent;padding:0;max-width:max-content;\" src=\"data:image/png;base64, iVBORw0KGgoAAAANSUhEUgAAAJgAAABuBAMAAAApJ8cWAAAAIGNIUk0AAHomAACAhAAA+gAAAIDoAAB1MAAA6mAAADqYAAAXcJy6UTwAAAAPUExURf////3+/aampvDw8P///7GHRIEAAAACdFJOUwAAdpPNOAAAAAFiS0dEAIgFHUgAAAAHdElNRQfpBBgQGylqEMncAAAAuklEQVRo3u3YUQrDIBBFUbdQd1Czg7r/vaVTOjAGA+n4PgK9D+Yn6GGSSCSWQjJ5rKa2d2RY7/2lwKyppsI2g8DAwMDA/g6zvUSGGQQGdoivMQnmEBgYGNh57LPzVGE2EewGWNxMlrEI/YJ9DgZkmI3zxZrFvKP6HduzWPXThYj5Q7+CNU8ABswnHt/kDNsmwBSb1SXMb1eChcphoZt17KTAwG6FDf+gq9hwDQwMDAwMDAxMjDVJCslkB+HVs3+Sbs/4AAAAAElFTkSuQmCC\">\n",
       "6 <img style=\"border:none;background-color:transparent;padding:0;max-width:max-content;\" src=\"data:image/png;base64, iVBORw0KGgoAAAANSUhEUgAAAJgAAABuBAMAAAApJ8cWAAAAIGNIUk0AAHomAACAhAAA+gAAAIDoAAB1MAAA6mAAADqYAAAXcJy6UTwAAAAPUExURf////3+/aampvDw8P///7GHRIEAAAACdFJOUwAAdpPNOAAAAAFiS0dEAIgFHUgAAAAHdElNRQfpBBgQGyrzGZhmAAAASUlEQVRo3u3MMQ0AIAwAsFmYBIYE/HvjJ+GAcJFWQCO4kYuqanlsk/UxZDKZTCaTyWQymUwmk8lkMplMJpPJZDKZTPZJVk8ENyYr+gcEglnZiQAAAABJRU5ErkJggg==\">                                                                                                                                                    \n",
       "7 <img style=\"border:none;background-color:transparent;padding:0;max-width:max-content;\" src=\"data:image/png;base64, iVBORw0KGgoAAAANSUhEUgAAAJgAAABuBAMAAAApJ8cWAAAAIGNIUk0AAHomAACAhAAA+gAAAIDoAAB1MAAA6mAAADqYAAAXcJy6UTwAAAAPUExURf////3+/aampvDw8P///7GHRIEAAAACdFJOUwAAdpPNOAAAAAFiS0dEAIgFHUgAAAAHdElNRQfpBBgQGyuEHqjwAAAArUlEQVRo3u3WUQ6DIBBFUbagOxB3UPa/tyrz8awttsIkxnLflyhzQiYkYwikJkM5cc00/JLv2JyWgPWBjZur044lfb8nZu3wwvI+MDCwq7FxNyIPsLwzHmLptW6DqdiSXz4qMRVfiKlxDpga/oapcQ6Yjgd2CtP8s8cmLH1ag3WDRV2hdmze1YGBgYGBgXWO2Zx1wmwN9odY+X+sAisXg4GBgYGBgd0Hiy4JpCZPghJICQ6hv3wAAAAASUVORK5CYII=\">                \n",
       "8 <img style=\"border:none;background-color:transparent;padding:0;max-width:max-content;\" src=\"data:image/png;base64, iVBORw0KGgoAAAANSUhEUgAAAJUAAAEKBAMAAADpywpeAAAAIGNIUk0AAHomAACAhAAA+gAAAIDoAAB1MAAA6mAAADqYAAAXcJy6UTwAAAAPUExURf////3+/aampvDw8P///7GHRIEAAAACdFJOUwAAdpPNOAAAAAFiS0dEAIgFHUgAAAAHdElNRQfpBBgQGyuEHqjwAAAArUlEQVR42u3bsQ3CAAxE0YwAG+BkBPbfjQaJFitXWPL7A7zSV/k41O0M9Ppa1/t+LBaLxfpZyRv9DPRYZJ2Vsy4Wi8ViRa3kjb4vzbdsGovFYu2w7GPPso8sFou1w7KPPatYLBaLtcIKUKusYrFYLNYKK0CtsorFYrFYK6wANd4qFovFYrGaVoAabxWLxWKxWE0rQI23isVisVgrrAC1yvKTwWKxWHOt5I3W/30ANyxbqLpepp8AAAAASUVORK5CYII=\">                \n",
       "  text.graph                                                                                                                                                                                                 \n",
       "1  \\\\ \\n \\\\ \\n \\\\ \\n \\\\ \\n \\\\ \\n \\\\ \\n \\\\ \\n \\\\ \\n \\\\ \\n \\\\ \\nIIIIIIIIIIIIIIIIIII                                                                                                                            \n",
       "2  \\\\ \\n \\\\ \\n \\\\ \\n \\\\ \\n \\\\ \\n \\\\ \\n \\\\ \\n \\\\ \\n \\\\ \\n \\\\ \\nIIIIIIIIIIIIIIIIIII                                                                                                                            \n",
       "3  \\\\ \\n \\\\ \\n \\\\ \\n \\\\ \\n \\\\ \\n \\\\ \\n \\\\ \\n \\\\ \\n \\\\ \\n \\\\ \\nIIIIIIIIIIIIIIIIIII                                                                                                                            \n",
       "4 \\\\ \\\\ \\\\ \\\\ \\\\ \\\\ \\\\ \\\\ \\\\ \\\\ :\\\\\\n\\\\ \\\\ \\\\ \\\\ \\\\ \\\\ \\\\ \\\\ \\\\ \\\\ :\\\\\\n\\\\ \\\\ \\\\ \\\\ \\\\ \\\\ \\\\ \\\\ \\\\ \\\\ :\\\\\\n\\\\ \\\\ \\\\ \\\\ \\\\ \\\\ \\\\ \\\\ \\\\ \\\\ :\\\\\\n\\\\ \\\\ \\\\ \\\\ \\\\ \\\\ \\\\ \\\\ \\\\ \\\\ :                                \n",
       "5 \\\\ \\\\ \\\\ \\\\ \\\\ \\\\ \\\\ \\\\ \\\\ \\\\ \\\\ \\\\ \\\\ \\\\ \\\\ \\\\ \\\\ \\\\ :\\\\\\n\\\\ \\\\ \\\\ \\\\ \\\\ \\\\ \\\\ \\\\ \\\\ \\\\ \\\\ \\\\ \\\\ \\\\ \\\\ \\\\ . :\\\\\\n. \\\\ \\\\ \\\\ \\\\ \\\\ \\\\ \\\\ \\\\ \\\\ \\\\ \\\\ \\\\ . : :\\\\\\n: : : : : : : : : :\\\\\\n: : : : : : : : : :\n",
       "6 \\\\ \\\\ \\\\ \\\\ :\\\\\\n\\\\ \\\\ \\\\ \\\\ :\\\\\\n\\\\ \\\\ \\\\ \\\\ :\\\\\\n\\\\ \\\\ \\\\ \\\\ :\\\\\\n\\\\ \\\\ \\\\ \\\\ :                                                                                                                          \n",
       "7 . \\\\ \\\\ \\\\ \\\\ : . \\\\ \\\\ \\\\ \\\\ \\\\ \\\\ \\\\ \\\\ .\\\\\\n: : : : : : . : : :\\\\\\n: : : : : : : : : :\\\\\\n: : : : : : : : : :\\\\\\n: : : : : : : : : :                                                                    \n",
       "8 IIIIIIIIIIIIIIIIII \\\\ \\n \\\\ \\n \\\\ \\n \\\\ \\n \\\\ \\n \\\\ \\n \\\\ \\n \\\\ \\n \\\\ \\n \\\\ \\n                                                                                                                             \n",
       "  Valid              Missing          \n",
       "1 541909\\\\\\n(100.0%) 0\\\\\\n(0.0%)      \n",
       "2 541909\\\\\\n(100.0%) 0\\\\\\n(0.0%)      \n",
       "3 540455\\\\\\n(99.7%)  1454\\\\\\n(0.3%)   \n",
       "4 541909\\\\\\n(100.0%) 0\\\\\\n(0.0%)      \n",
       "5 541909\\\\\\n(100.0%) 0\\\\\\n(0.0%)      \n",
       "6 541909\\\\\\n(100.0%) 0\\\\\\n(0.0%)      \n",
       "7 406829\\\\\\n(75.1%)  135080\\\\\\n(24.9%)\n",
       "8 541909\\\\\\n(100.0%) 0\\\\\\n(0.0%)      "
      ]
     },
     "metadata": {},
     "output_type": "display_data"
    }
   ],
   "source": [
    "# View basic structure and summary\n",
    "str(data)\n",
    "summary(data)\n",
    "dfSummary(data)"
   ]
  },
  {
   "cell_type": "code",
   "execution_count": 5,
   "id": "f88305c2",
   "metadata": {
    "vscode": {
     "languageId": "r"
    }
   },
   "outputs": [
    {
     "name": "stdout",
     "output_type": "stream",
     "text": [
      "  InvoiceNo   StockCode Description    Quantity InvoiceDate   UnitPrice \n",
      "          0           0        1454           0           0           0 \n",
      " CustomerID     Country \n",
      "     135080           0 \n"
     ]
    }
   ],
   "source": [
    "# Check for missing values\n",
    "missing_data <- sapply(data, function(x) sum(is.na(x)))\n",
    "print(missing_data)"
   ]
  },
  {
   "cell_type": "code",
   "execution_count": 6,
   "id": "24bfaed8",
   "metadata": {
    "vscode": {
     "languageId": "r"
    }
   },
   "outputs": [
    {
     "data": {
      "image/png": "[encoded data removed]",
      "text/plain": [
       "plot without title"
      ]
     },
     "metadata": {
      "image/png": {
       "height": 420,
       "width": 420
      }
     },
     "output_type": "display_data"
    }
   ],
   "source": [
    "# Visualize missing data\n",
    "plot_missing(data)"
   ]
  },
  {
   "cell_type": "code",
   "execution_count": 8,
   "id": "67c10074",
   "metadata": {
    "vscode": {
     "languageId": "r"
    }
   },
   "outputs": [],
   "source": [
    "# Drop columns with too many NAs (threshold: 50%)\n",
    "threshold <- 0.5 * nrow(data)\n",
    "data_clean <- data[, colSums(is.na(data)) <= threshold]\n",
    "\n",
    "# Impute or remove remaining missing values\n",
    "# Example: fill NA with median for numeric columns\n",
    "data_clean <- data_clean %>% mutate(across(where(is.numeric), ~ifelse(is.na(.), median(., na.rm = TRUE), .)))\n"
   ]
  },
  {
   "cell_type": "code",
   "execution_count": 9,
   "id": "214168ee",
   "metadata": {
    "vscode": {
     "languageId": "r"
    }
   },
   "outputs": [
    {
     "data": {
      "image/png": "[encoded data removed]",
      "text/plain": [
       "plot without title"
      ]
     },
     "metadata": {
      "image/png": {
       "height": 420,
       "width": 420
      }
     },
     "output_type": "display_data"
    }
   ],
   "source": [
    "# Distribution of numeric variables\n",
    "plot_histogram(data_clean)"
   ]
  },
  {
   "cell_type": "code",
   "execution_count": 10,
   "id": "e28e80a1",
   "metadata": {
    "vscode": {
     "languageId": "r"
    }
   },
   "outputs": [
    {
     "data": {
      "image/png": "[encoded data removed]",
      "text/plain": [
       "plot without title"
      ]
     },
     "metadata": {
      "image/png": {
       "height": 420,
       "width": 420
      }
     },
     "output_type": "display_data"
    }
   ],
   "source": [
    "# Boxplots for outlier detection\n",
    "plot_boxplot(data_clean, by = \"CustomerID\")  # use another categorical column if needed"
   ]
  },
  {
   "cell_type": "code",
   "execution_count": 11,
   "id": "9d6d275e",
   "metadata": {
    "vscode": {
     "languageId": "r"
    }
   },
   "outputs": [
    {
     "data": {
      "image/png": "[encoded data removed]",
      "text/plain": [
       "Plot with title \"\""
      ]
     },
     "metadata": {
      "image/png": {
       "height": 420,
       "width": 420
      }
     },
     "output_type": "display_data"
    }
   ],
   "source": [
    "# Correlation analysis\n",
    "numeric_data <- data_clean %>% select(where(is.numeric)) %>% na.omit()\n",
    "cor_matrix <- cor(numeric_data)\n",
    "corrplot(cor_matrix, method = \"color\", tl.cex = 0.8)"
   ]
  },
  {
   "cell_type": "code",
   "execution_count": 12,
   "id": "b9ab1c3e",
   "metadata": {
    "vscode": {
     "languageId": "r"
    }
   },
   "outputs": [],
   "source": [
    "# Remove near-zero variance features\n",
    "nzv <- nearZeroVar(numeric_data)\n",
    "if (length(nzv) > 0) {\n",
    "  numeric_data <- numeric_data[, -nzv]\n",
    "}"
   ]
  },
  {
   "cell_type": "code",
   "execution_count": 14,
   "id": "af24629b",
   "metadata": {
    "vscode": {
     "languageId": "r"
    }
   },
   "outputs": [
    {
     "name": "stdout",
     "output_type": "stream",
     "text": [
      "   Quantity   UnitPrice  CustomerID \n",
      " -0.2640748 186.5059392   0.1024627 \n"
     ]
    }
   ],
   "source": [
    "# Skewness check and transformation (if needed)\n",
    "skew_vals <- apply(numeric_data, 2, skew)\n",
    "print(skew_vals)"
   ]
  },
  {
   "cell_type": "code",
   "execution_count": 15,
   "id": "7f556b76",
   "metadata": {
    "vscode": {
     "languageId": "r"
    }
   },
   "outputs": [
    {
     "name": "stderr",
     "output_type": "stream",
     "text": [
      "Warning message:\n",
      "\"\u001b[1m\u001b[22mThere was 1 warning in `mutate()`.\n",
      "\u001b[1m\u001b[22m\u001b[36mℹ\u001b[39m In argument: `across(where(~abs(skew(.)) > 1), ~log1p(.))`.\n",
      "Caused by warning in `log1p()`:\n",
      "\u001b[33m!\u001b[39m NaNs produced\"\n"
     ]
    }
   ],
   "source": [
    "# Apply log transformation where skew > 1\n",
    "numeric_data_transformed <- numeric_data %>%\n",
    "  mutate(across(where(~ abs(skew(.)) > 1), ~ log1p(.)))"
   ]
  },
  {
   "cell_type": "code",
   "execution_count": 25,
   "id": "59a1cf96",
   "metadata": {
    "vscode": {
     "languageId": "r"
    }
   },
   "outputs": [],
   "source": [
    "# Final dataset\n",
    "data_final <- cbind(data_clean %>% select(-where(is.numeric)), numeric_data_transformed)"
   ]
  },
  {
   "cell_type": "code",
   "execution_count": 26,
   "id": "06f16e93",
   "metadata": {
    "vscode": {
     "languageId": "r"
    }
   },
   "outputs": [],
   "source": [
    "data_final <- data_final %>%\n",
    "  filter(Quantity >= 1, UnitPrice >= 1)"
   ]
  },
  {
   "cell_type": "code",
   "execution_count": 27,
   "id": "4efcbffd",
   "metadata": {
    "vscode": {
     "languageId": "r"
    }
   },
   "outputs": [
    {
     "data": {
      "text/html": [
       "<table class=\"dataframe\">\n",
       "<caption>A data.frame: 1 × 9</caption>\n",
       "<thead>\n",
       "\t<tr><th scope=col>rows</th><th scope=col>columns</th><th scope=col>discrete_columns</th><th scope=col>continuous_columns</th><th scope=col>all_missing_columns</th><th scope=col>total_missing_values</th><th scope=col>complete_rows</th><th scope=col>total_observations</th><th scope=col>memory_usage</th></tr>\n",
       "\t<tr><th scope=col>&lt;int&gt;</th><th scope=col>&lt;int&gt;</th><th scope=col>&lt;int&gt;</th><th scope=col>&lt;int&gt;</th><th scope=col>&lt;int&gt;</th><th scope=col>&lt;int&gt;</th><th scope=col>&lt;int&gt;</th><th scope=col>&lt;int&gt;</th><th scope=col>&lt;dbl&gt;</th></tr>\n",
       "</thead>\n",
       "<tbody>\n",
       "\t<tr><td>295771</td><td>8</td><td>5</td><td>3</td><td>0</td><td>0</td><td>295771</td><td>2366168</td><td>20417648</td></tr>\n",
       "</tbody>\n",
       "</table>\n"
      ],
      "text/latex": [
       "A data.frame: 1 × 9\n",
       "\\begin{tabular}{lllllllll}\n",
       " rows & columns & discrete\\_columns & continuous\\_columns & all\\_missing\\_columns & total\\_missing\\_values & complete\\_rows & total\\_observations & memory\\_usage\\\\\n",
       " <int> & <int> & <int> & <int> & <int> & <int> & <int> & <int> & <dbl>\\\\\n",
       "\\hline\n",
       "\t 295771 & 8 & 5 & 3 & 0 & 0 & 295771 & 2366168 & 20417648\\\\\n",
       "\\end{tabular}\n"
      ],
      "text/markdown": [
       "\n",
       "A data.frame: 1 × 9\n",
       "\n",
       "| rows &lt;int&gt; | columns &lt;int&gt; | discrete_columns &lt;int&gt; | continuous_columns &lt;int&gt; | all_missing_columns &lt;int&gt; | total_missing_values &lt;int&gt; | complete_rows &lt;int&gt; | total_observations &lt;int&gt; | memory_usage &lt;dbl&gt; |\n",
       "|---|---|---|---|---|---|---|---|---|\n",
       "| 295771 | 8 | 5 | 3 | 0 | 0 | 295771 | 2366168 | 20417648 |\n",
       "\n"
      ],
      "text/plain": [
       "  rows   columns discrete_columns continuous_columns all_missing_columns\n",
       "1 295771 8       5                3                  0                  \n",
       "  total_missing_values complete_rows total_observations memory_usage\n",
       "1 0                    295771        2366168            20417648    "
      ]
     },
     "metadata": {},
     "output_type": "display_data"
    }
   ],
   "source": [
    "# Quick overview\n",
    "introduce(data_final)"
   ]
  },
  {
   "cell_type": "code",
   "execution_count": 28,
   "id": "e5a585a1",
   "metadata": {
    "vscode": {
     "languageId": "r"
    }
   },
   "outputs": [],
   "source": [
    "write.csv(data_final, \"data_final.csv\", row.names = FALSE)"
   ]
  }
 ],
 "metadata": {
  "kernelspec": {
   "display_name": "R (venv)",
   "language": "R",
   "name": "ir_in_venv"
  },
  "language_info": {
   "codemirror_mode": "r",
   "file_extension": ".r",
   "mimetype": "text/x-r-source",
   "name": "R",
   "pygments_lexer": "r",
   "version": "4.4.3"
  }
 },
 "nbformat": 4,
 "nbformat_minor": 5
}
